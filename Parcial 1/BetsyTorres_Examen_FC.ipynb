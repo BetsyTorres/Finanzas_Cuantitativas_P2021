{
 "cells": [
  {
   "cell_type": "markdown",
   "metadata": {},
   "source": [
    "### Q1:Expected Value\n",
    "\n",
    "Use Excel file, using Maximum Likelihood estimate the distribution of units of each year. *Tip. Use only Normal and Uniform distribution.*\n",
    "\n",
    "Example: \n",
    "$$Year 1  \\sim \\mathcal {N}((200k,10k)$$\n",
    "\n",
    "Consider a company with the forecast for units over a project for the next 5 years.(in excel)\n",
    "\n",
    "The project has an initial investment of **1.8M**, a fixed cost of **40k**. Price per unit **10** and cost per unit **8**\n",
    "The risk free of **3\\%**\n",
    "\n",
    "    1) What is the Expected value of the NPV?  \n",
    "    2) What is the VAR of NPV?\n",
    "\n",
    "Answer analytically (Expand your steps of expected value and variance)\n",
    "\n",
    "    3) What is the Expected value of the NPV?  \n",
    "    4) What is the VAR of NPV?\n",
    "    5) What distribution does the NPV have? (use Maximum Likehood,Use only Normal and Uniform distribution)\n",
    "    6) What probability of having NPV over a 1 M? Explain your answer"
   ]
  },
  {
   "cell_type": "code",
   "execution_count": 22,
   "metadata": {},
   "outputs": [],
   "source": [
    "# Importamos librerias\n",
    "import pandas as pd\n",
    "import numpy as np\n",
    "import scipy.stats as st\n",
    "import warnings\n",
    "import matplotlib.pyplot as plt"
   ]
  },
  {
   "cell_type": "code",
   "execution_count": 23,
   "metadata": {},
   "outputs": [
    {
     "data": {
      "text/html": [
       "<div>\n",
       "<style scoped>\n",
       "    .dataframe tbody tr th:only-of-type {\n",
       "        vertical-align: middle;\n",
       "    }\n",
       "\n",
       "    .dataframe tbody tr th {\n",
       "        vertical-align: top;\n",
       "    }\n",
       "\n",
       "    .dataframe thead th {\n",
       "        text-align: right;\n",
       "    }\n",
       "</style>\n",
       "<table border=\"1\" class=\"dataframe\">\n",
       "  <thead>\n",
       "    <tr style=\"text-align: right;\">\n",
       "      <th></th>\n",
       "      <th>Year 1</th>\n",
       "      <th>Year 2</th>\n",
       "      <th>Year 3</th>\n",
       "      <th>Year 4</th>\n",
       "      <th>Year 5</th>\n",
       "    </tr>\n",
       "  </thead>\n",
       "  <tbody>\n",
       "    <tr>\n",
       "      <th>0</th>\n",
       "      <td>342299</td>\n",
       "      <td>210646</td>\n",
       "      <td>267698</td>\n",
       "      <td>304886</td>\n",
       "      <td>50162</td>\n",
       "    </tr>\n",
       "    <tr>\n",
       "      <th>1</th>\n",
       "      <td>224626</td>\n",
       "      <td>244301</td>\n",
       "      <td>398344</td>\n",
       "      <td>230886</td>\n",
       "      <td>49800</td>\n",
       "    </tr>\n",
       "    <tr>\n",
       "      <th>2</th>\n",
       "      <td>64300</td>\n",
       "      <td>202526</td>\n",
       "      <td>146428</td>\n",
       "      <td>290904</td>\n",
       "      <td>50120</td>\n",
       "    </tr>\n",
       "    <tr>\n",
       "      <th>3</th>\n",
       "      <td>127986</td>\n",
       "      <td>326343</td>\n",
       "      <td>286020</td>\n",
       "      <td>273425</td>\n",
       "      <td>49907</td>\n",
       "    </tr>\n",
       "    <tr>\n",
       "      <th>4</th>\n",
       "      <td>402335</td>\n",
       "      <td>367261</td>\n",
       "      <td>398079</td>\n",
       "      <td>226830</td>\n",
       "      <td>50080</td>\n",
       "    </tr>\n",
       "    <tr>\n",
       "      <th>...</th>\n",
       "      <td>...</td>\n",
       "      <td>...</td>\n",
       "      <td>...</td>\n",
       "      <td>...</td>\n",
       "      <td>...</td>\n",
       "    </tr>\n",
       "    <tr>\n",
       "      <th>2995</th>\n",
       "      <td>184015</td>\n",
       "      <td>262116</td>\n",
       "      <td>377285</td>\n",
       "      <td>199294</td>\n",
       "      <td>50198</td>\n",
       "    </tr>\n",
       "    <tr>\n",
       "      <th>2996</th>\n",
       "      <td>194969</td>\n",
       "      <td>393200</td>\n",
       "      <td>157290</td>\n",
       "      <td>225308</td>\n",
       "      <td>49912</td>\n",
       "    </tr>\n",
       "    <tr>\n",
       "      <th>2997</th>\n",
       "      <td>172223</td>\n",
       "      <td>374372</td>\n",
       "      <td>398071</td>\n",
       "      <td>187111</td>\n",
       "      <td>50033</td>\n",
       "    </tr>\n",
       "    <tr>\n",
       "      <th>2998</th>\n",
       "      <td>18656</td>\n",
       "      <td>459320</td>\n",
       "      <td>217392</td>\n",
       "      <td>212004</td>\n",
       "      <td>50120</td>\n",
       "    </tr>\n",
       "    <tr>\n",
       "      <th>2999</th>\n",
       "      <td>165701</td>\n",
       "      <td>201991</td>\n",
       "      <td>399866</td>\n",
       "      <td>267192</td>\n",
       "      <td>49939</td>\n",
       "    </tr>\n",
       "  </tbody>\n",
       "</table>\n",
       "<p>3000 rows × 5 columns</p>\n",
       "</div>"
      ],
      "text/plain": [
       "      Year 1  Year 2  Year 3  Year 4  Year 5\n",
       "0     342299  210646  267698  304886   50162\n",
       "1     224626  244301  398344  230886   49800\n",
       "2      64300  202526  146428  290904   50120\n",
       "3     127986  326343  286020  273425   49907\n",
       "4     402335  367261  398079  226830   50080\n",
       "...      ...     ...     ...     ...     ...\n",
       "2995  184015  262116  377285  199294   50198\n",
       "2996  194969  393200  157290  225308   49912\n",
       "2997  172223  374372  398071  187111   50033\n",
       "2998   18656  459320  217392  212004   50120\n",
       "2999  165701  201991  399866  267192   49939\n",
       "\n",
       "[3000 rows x 5 columns]"
      ]
     },
     "execution_count": 23,
     "metadata": {},
     "output_type": "execute_result"
    }
   ],
   "source": [
    "# Importamos datos\n",
    "data = pd.read_excel('EXAMEN_P1.xlsx')\n",
    "data"
   ]
  },
  {
   "cell_type": "code",
   "execution_count": 25,
   "metadata": {},
   "outputs": [],
   "source": [
    "def best_fit_distribution(data, bins=200, ax=None):\n",
    "    \"\"\"Model data by finding best fit distribution to data\"\"\"\n",
    "    # Get histogram of original data\n",
    "    y, x = np.histogram(data, bins=bins, density=True)\n",
    "    x = (x + np.roll(x, -1))[:-1] / 2.0\n",
    "\n",
    "  # Distributions to check\n",
    "    DISTRIBUTIONS = [        \n",
    "      st.norm,st.uniform # Distribuciones usadas por el Tip dado\n",
    "    ]\n",
    "\n",
    "    # Best holders\n",
    "    best_distribution = st.norm\n",
    "    best_params = (0.0, 1.0)\n",
    "    best_sse = np.inf\n",
    "\n",
    "    # Estimate distribution parameters from data\n",
    "    for distribution in DISTRIBUTIONS:\n",
    "\n",
    "        # Try to fit the distribution\n",
    "        try:\n",
    "            # Ignore warnings from data that can't be fit\n",
    "            with warnings.catch_warnings():\n",
    "                warnings.filterwarnings('ignore')\n",
    "\n",
    "                # fit dist to data\n",
    "                params = distribution.fit(data)\n",
    "\n",
    "                # Separate parts of parameters\n",
    "                arg = params[:-2]\n",
    "                loc = params[-2]\n",
    "                scale = params[-1]\n",
    "\n",
    "                # Calculate fitted PDF and error with fit in distribution\n",
    "                pdf = distribution.pdf(x, loc=loc, scale=scale, *arg)\n",
    "                sse = np.sum(np.power(y - pdf, 2.0))\n",
    "\n",
    "                # if axis pass in add to plot\n",
    "                try:\n",
    "                    if ax:\n",
    "                        pd.Series(pdf, x).plot(ax=ax)\n",
    "                \n",
    "                except Exception:\n",
    "                    pass\n",
    "\n",
    "                # identify if this distribution is better\n",
    "                if best_sse > sse > 0:\n",
    "                    best_distribution = distribution\n",
    "                    best_params = params\n",
    "                    best_sse = sse\n",
    "\n",
    "        except Exception:\n",
    "            pass\n",
    "\n",
    "    return (best_distribution.name, best_params)\n",
    "\n",
    "def make_pdf(dist, params, size=10000):\n",
    "    \"\"\"Generate distributions's Probability Distribution Function \"\"\"\n",
    "\n",
    "    # Separate parts of parameters\n",
    "    arg = params[:-2]\n",
    "    loc = params[-2]\n",
    "    scale = params[-1]\n",
    "\n",
    "    # Get sane start and end points of distribution\n",
    "    start = dist.ppf(0.01, *arg, loc=loc, scale=scale) if arg else dist.ppf(0.01, loc=loc, scale=scale)\n",
    "    end = dist.ppf(0.99, *arg, loc=loc, scale=scale) if arg else dist.ppf(0.99, loc=loc, scale=scale)\n",
    "\n",
    "    # Build PDF and turn into pandas Series\n",
    "    x = np.linspace(start, end, size)\n",
    "    y = dist.pdf(x, loc=loc, scale=scale, *arg)\n",
    "    pdf = pd.Series(y, x)\n",
    "\n",
    "    return pdf"
   ]
  },
  {
   "cell_type": "code",
   "execution_count": 27,
   "metadata": {},
   "outputs": [
    {
     "data": {
      "text/plain": [
       "[['norm', (202192.366, 99037.34944922569)],\n",
       " ['uniform', (200099.0, 299876.0)],\n",
       " ['uniform', (0.0, 400000.0)],\n",
       " ['uniform', (175114.0, 149883.0)],\n",
       " ['norm', (49998.439333333336, 99.3904236813364)]]"
      ]
     },
     "execution_count": 27,
     "metadata": {},
     "output_type": "execute_result"
    }
   ],
   "source": [
    "years = list(data.columns)\n",
    "\n",
    "best_fits = [list(best_fit_distribution(data[year])) for year in years]\n",
    "\n",
    "best_fits"
   ]
  },
  {
   "cell_type": "code",
   "execution_count": 49,
   "metadata": {
    "scrolled": true
   },
   "outputs": [
    {
     "data": {
      "text/plain": [
       "(-27823.85909718645, 372841.42601437017)"
      ]
     },
     "execution_count": 49,
     "metadata": {},
     "output_type": "execute_result"
    }
   ],
   "source": [
    "npv_vec.mean(), npv_vec.std()"
   ]
  },
  {
   "cell_type": "code",
   "execution_count": 50,
   "metadata": {},
   "outputs": [
    {
     "data": {
      "text/plain": [
       "('norm', (-27823.85909718645, 372841.42601437017))"
      ]
     },
     "execution_count": 50,
     "metadata": {},
     "output_type": "execute_result"
    }
   ],
   "source": [
    "best_fit_distribution(npv_vec)"
   ]
  },
  {
   "cell_type": "code",
   "execution_count": 51,
   "metadata": {},
   "outputs": [
    {
     "name": "stdout",
     "output_type": "stream",
     "text": [
      "0.0 %\n"
     ]
    }
   ],
   "source": [
    "mill = [n for n in npv_vec if n>1000000]\n",
    "ans1=len(mill)/len(data)\n",
    "print(ans1*100,'%')"
   ]
  },
  {
   "cell_type": "markdown",
   "metadata": {},
   "source": [
    "### <span style=\"background:#FFFF00\">Answer 1 </span>\n",
    "    1)What is the Expected value of the NPV?\n",
    "> -27823.85909718645\n",
    "\n",
    "    2)What is the VAR of NPV? \n",
    "> 372841.42601437017"
   ]
  },
  {
   "cell_type": "markdown",
   "metadata": {},
   "source": [
    "**Answer analytically**\n",
    " \n",
    "     3) What is the Expected value of the NPV?\n",
    "\n",
    "$ E[x] = - I + \\frac{P_{n}-F_{c}}{(1 - r)^{n}} $\n",
    "\n",
    "$ E[x] = - 1.8M + \\frac{P_{1}-F_{c}}{(1 - r)^{1}} + \\frac{P_{2}-F_{c}}{(1 - r)^{2}} + \\frac{P_{3}-F_{c}}{(1 - r)^{3}} + \\frac{P_{4}-F_{c}}{(1 - r)^{4}} + \\frac{P_{5}-F_{c}}{(1 - r)^{5}}$\n",
    "\n",
    "$ E[x] = - 1.8M + \\frac{202192.366(10-8)- 40,000}{(1 - 0.03)^{1}} + \\frac{200099.0(10-8)- 40,000}{(1 - 0.03)^{2}} + \\frac{0.0(10-8)- 40,000}{(1 - 0.03)^{3}} + \\frac{175114.0(10-8)- 40,000}{(1 - 0.03)^{4}} + \\frac{49998.4393(10-8)- 40,000}{(1 - 0.03)^{5}} $\n",
    "\n",
    "$ E[x] = -27,823.85909718645$\n",
    "\n",
    "Al limitar las distribuciones se observa que la media de la distribución del año 3 es cero, por lo que el método analitico muestra un valor negativo. \n",
    "\n",
    "Utilizando la media real de los valores del año tres se observa una esperanza de más cercana al arrojado usando código.\n",
    "\n",
    "    4) What is the VAR of NPV?\n",
    "$$ Var[x] = Var[- I] + Var[\\frac{Var_{n}-F_{c}}{(1 - r)^{n}}] $$\n",
    "$$ Var[x] = Var[- 1.8M] + Var[\\frac{Var_{1}-F_{c}}{(1 - r)^{1}}] + Var[\\frac{Var_{2}-F_{c}}{(1 - r)^{2}}] + Var[\\frac{Var_{3}-F_{c}}{(1 - r)^{3}}] + Var[\\frac{Var_{4}-F_{c}}{(1 - r)^{4}}] + Var[\\frac{Var_{5}-F_{c}}{(1 - r)^{5}}]$$\n",
    "$$ Var[x] = Var[\\frac{99037.349(10-8)- 40,000}{(1 - 0.03)^{1}}] + Var[\\frac{299876.0(10-8)- 40,000}{(1 - 0.03)^{2}}] + Var[\\frac{400000.0(10-8)- 40,000}{(1 - 0.03)^{3}}] + Var[\\frac{149883.0(10-8)- 40,000}{(1 - 0.03)^{4}}] + Var[\\frac{99.39(10-8)- 40,000}{(1 - 0.03)^{5}}]$$\n",
    "\n",
    "$$ Var[x] = 372,841.42601437017 $$\n",
    "\n",
    "    5) What distribution does the NPV have?\n",
    "> $\\mathcal{N} \\sim (-27823.85909718645, 372841.42601437017)$  \n",
    "\n",
    "    6) What probability of having NPV over a 1 M? \n",
    "> 0.0%\n"
   ]
  },
  {
   "cell_type": "markdown",
   "metadata": {},
   "source": [
    "### Q2: Maximum Likelihood\n",
    "\n",
    "Using Maximum Likelihood parameter estimation Derive the process to get the optimal parameter(s): \n",
    "\n",
    "Exponential Distribution (get $\\hat{\\lambda}$):\n",
    "\n",
    "$$y_{i} \\sim \\ f(\\lambda, y_{i})= \\lambda e^{-\\lambda y_i}$$\n"
   ]
  },
  {
   "cell_type": "markdown",
   "metadata": {},
   "source": [
    "### <span style=\"background:#FFFF00\">Answer 2</span>\n",
    "\n"
   ]
  },
  {
   "cell_type": "markdown",
   "metadata": {},
   "source": [
    "### Q3: Modeling Derivatives\n",
    "\n",
    "Find the differential form of a derivative, $df(X_{t}, t):= df_{t}$, where: (tip: Use Taylor series and Itô Lemma)\n",
    "\n",
    "$$dX_{t}=\\mu_{}X_{t}^3(d_{t}) +X_{t}\\sigma(dW_{t}) + \\sigma X_{t} \\ $$\n",
    "\n",
    "Is the equation risk fee under neutral valuation? Why?\n",
    "\n",
    "\n"
   ]
  },
  {
   "cell_type": "markdown",
   "metadata": {},
   "source": [
    "### <span style=\"background:red\">Answer 3</span>\n"
   ]
  }
 ],
 "metadata": {
  "kernelspec": {
   "display_name": "Python 3",
   "language": "python",
   "name": "python3"
  },
  "language_info": {
   "codemirror_mode": {
    "name": "ipython",
    "version": 3
   },
   "file_extension": ".py",
   "mimetype": "text/x-python",
   "name": "python",
   "nbconvert_exporter": "python",
   "pygments_lexer": "ipython3",
   "version": "3.8.3"
  }
 },
 "nbformat": 4,
 "nbformat_minor": 4
}
