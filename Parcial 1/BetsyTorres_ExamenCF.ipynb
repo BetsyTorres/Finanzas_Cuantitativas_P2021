{
 "cells": [
  {
   "cell_type": "markdown",
   "metadata": {},
   "source": [
    "### Q3: Modeling Derivatives\n",
    "\n",
    "Find the differential form of a derivative, $df(X_{t}, t):= df_{t}$, where: (tip: Use Taylor series and Itô Lemma)\n",
    "\n",
    "$$dX_{t}=\\mu_{}X_{t}^3(d_{t}) +X_{t}\\sigma(dW_{t}) + \\sigma X_{t} \\ $$\n",
    "\n",
    "Is the equation risk fee under neutral valuation? Why?\n",
    "\n",
    "\n"
   ]
  },
  {
   "cell_type": "markdown",
   "metadata": {},
   "source": [
    "### Q4.2: Black and Scholes solution\n",
    "\n",
    "Using the differential equation of derivative from Q3. Solve it using Feunmann-Kaz theorem. Clearly state the equivalences an values from your equation and the theorem.  \n",
    "\n",
    "Definition: Feunmann-Kaz theorem:\n",
    " \n",
    "Problem statement:\n",
    "$$\\frac{\\partial U}{\\partial t}+ \\mu (x,t)\\frac{\\partial U}{\\partial x}+ \\frac{1}{2}\\sigma^2(x,t)\\frac{\\partial^2 u}{\\partial x^2}-V(x,t)U(x,t)+f(x,t)=0 $$\n",
    "\n",
    "where:  $ U(x,T)=\\psi (x) $\n",
    "\n",
    "Can you solve it?\n",
    "\n",
    "Is the equation risk fee under neutral valuation? Why?"
   ]
  },
  {
   "cell_type": "markdown",
   "metadata": {},
   "source": [
    "### Q6: Fair Value\n",
    "Consider the payoff function of the following derivative. \n",
    "\n",
    "    1) Explain a possible use of this instrument.\n",
    "    2) Get the fair value under risk neutral valuation. \n",
    "\n",
    "$$\n",
    "M_{T}^{CP}= \\left\\{ \\begin{array}{lcc}\n",
    "             S_{T_1}   &   S_{T_1} \\geq S_{T_2} \\\\\n",
    "             \\\\ S_{T_2}   &   S_{T_1} < S_{T_2} \n",
    "             \\end{array}\n",
    "   \\right.\n",
    "$$   \n",
    "Describe in full details all the steps.\n"
   ]
  },
  {
   "cell_type": "markdown",
   "metadata": {},
   "source": [
    "### Q7: Greeks\n",
    "\n",
    "For the derivative in Q6, calculate: \n",
    "\n",
    "Delta $\\Delta$ for $S_{t_1}$ and for $S_{t_2}$\n",
    "$\\frac{\\partial V_{t}}{\\partial S_{t}} = \\Delta$ \n"
   ]
  }
 ],
 "metadata": {
  "kernelspec": {
   "display_name": "Python 3",
   "language": "python",
   "name": "python3"
  },
  "language_info": {
   "codemirror_mode": {
    "name": "ipython",
    "version": 3
   },
   "file_extension": ".py",
   "mimetype": "text/x-python",
   "name": "python",
   "nbconvert_exporter": "python",
   "pygments_lexer": "ipython3",
   "version": "3.8.3"
  }
 },
 "nbformat": 4,
 "nbformat_minor": 4
}
