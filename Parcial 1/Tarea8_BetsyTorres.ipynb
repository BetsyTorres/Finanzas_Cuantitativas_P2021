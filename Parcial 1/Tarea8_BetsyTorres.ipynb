{
 "cells": [
  {
   "cell_type": "markdown",
   "metadata": {},
   "source": [
    "# Esta tarea fue realizada en equipo por Betsy Torres, Mariana Briones y Erick Mendoza"
   ]
  },
  {
   "cell_type": "markdown",
   "metadata": {},
   "source": [
    "## Griegas de un Put option"
   ]
  },
  {
   "cell_type": "code",
   "execution_count": 16,
   "metadata": {},
   "outputs": [],
   "source": [
    "# Importamos las librearías\n",
    "import numpy as np\n",
    "import scipy.stats as si"
   ]
  },
  {
   "cell_type": "code",
   "execution_count": 17,
   "metadata": {},
   "outputs": [],
   "source": [
    "# Definimos las funciones de d1, d2, dN y N\n",
    "\n",
    "def d1(So, K, r, T, sigma, q):\n",
    "    return (np.log(So/K) + (r - q + 0.5*sigma**2)*T)/(sigma*np.sqrt(T))\n",
    "\n",
    "def d2(So, K, r, T, sigma, q):\n",
    "    return (np.log(So/K) + (r - q - 0.5*sigma**2)*T)/(sigma*np.sqrt(T))\n",
    "\n",
    "def dN(x):\n",
    "    return np.exp(-x**2/2)/(2*np.pi)**0.5\n",
    "\n",
    "def N(x):\n",
    "    return si.norm.cdf(x, loc = 0, scale = 1) "
   ]
  },
  {
   "cell_type": "code",
   "execution_count": 18,
   "metadata": {},
   "outputs": [],
   "source": [
    "class Put(): #clase para llamar a las griegas en posición larga\n",
    "    def price(So, K, r, T, sigma, q):\n",
    "        return -So*np.exp(-q*T)*N(-d1(So, K, r, T, sigma, q)) + np.exp(-r*T)*K*N(-d2(So, K, r, T, sigma, q))\n",
    "    def delta(So, K, r, T, sigma, q):\n",
    "        return -np.exp(-q*T)*N(-d1(So, K, r, T, sigma, q))\n",
    "    def gamma(So, K, r, T, sigma, q):\n",
    "        # print (np.exp(-q*T)*dN(d1(So, K, r, T, sigma, q))/(So*sigma*T**0.5))\n",
    "        return K*np.exp(-r*T)*dN(d2(So, K, r, T, sigma, q))/(So**2*sigma*T**0.5)\n",
    "    def vega(So, K, r, T, sigma, q):\n",
    "        # print (So*np.exp(-q*T)*dN(d1(So, K, r, T, sigma, q))*T**0.5)\n",
    "        return K*np.exp(-r*T)*dN(d2(So, K, r, T, sigma, q))*T**0.5\n",
    "    def rho(So, K, r, T, sigma, q):\n",
    "        return -K*T*np.exp(-r*T)*N(-d2(So, K, r, T, sigma, q))\n",
    "    def theta(So, K, r, T, sigma, q):\n",
    "        return -np.exp(-q*T)*(So*dN(-d1(So, K, r, T, sigma, q))*sigma)/(2*T**0.5) + r*K*np.exp(-r*T)*N(-d2(So, K, r, T, sigma, q)) - q*So*np.exp(-q*T)*N(-d1(So, K, r, T, sigma, q))\n",
    "\n"
   ]
  },
  {
   "cell_type": "code",
   "execution_count": 23,
   "metadata": {},
   "outputs": [],
   "source": [
    "# Datos \n",
    "So = 20\n",
    "K = 20\n",
    "r = 0.05\n",
    "T = 1\n",
    "sigma = 0.3\n",
    "q = 0"
   ]
  },
  {
   "cell_type": "code",
   "execution_count": 24,
   "metadata": {},
   "outputs": [
    {
     "name": "stdout",
     "output_type": "stream",
     "text": [
      "1.8708394472114467\n",
      "-0.37574827209398753\n",
      "0.06323882218615756\n",
      "7.588658662338908\n",
      "-9.385804889091197\n",
      "-0.6690085548962764\n"
     ]
    }
   ],
   "source": [
    "print (Put.price(So, K, r, T, sigma, q))\n",
    "print (Put.delta(So, K, r, T, sigma, q))\n",
    "print (Put.gamma(So, K, r, T, sigma, q))\n",
    "print (Put.vega(So, K, r, T, sigma, q))\n",
    "print (Put.rho(So, K, r, T, sigma, q))\n",
    "print (Put.theta(So, K, r, T, sigma, q))"
   ]
  },
  {
   "cell_type": "code",
   "execution_count": null,
   "metadata": {},
   "outputs": [],
   "source": []
  },
  {
   "cell_type": "code",
   "execution_count": null,
   "metadata": {},
   "outputs": [],
   "source": [
    "def Rho(S,K,T,r,sigma):\n",
    "d2= (np.log(S/K) +( r -0.5*sigma**2)*T)/(sigma * np.sqrt(T))\n",
    "rho= T*K*np.exp(-r*T)*si.norm.cdf(d2,0.0,1.0)\n",
    "return rho/100 #Algu\n",
    "print(Rho(S,K,T,r,sigma))\n",
    "\n",
    "def theta_put(S, K, T, r, sigma):\n",
    "d1 = (np.log(S / K) + (r + 0.5 * sigma ** 2) * T) / (sigma * np.sqrt(T))\n",
    "d2 = (np.log(S / K) + (r - 0.5 * sigma ** 2) * T) / (sigma * np.sqrt(T))\n",
    "prob_density = 1 / np.sqrt(2 * np.pi) * np.exp(-d1 ** 2 * 0.5)\n",
    "theta = (-sigma * S * prob_density) / (2 * np.sqrt(T)) + r * K * np.exp(-r * T) * si.norm.cdf(-d2, 0.0, 1.0)\n",
    "return theta"
   ]
  },
  {
   "cell_type": "code",
   "execution_count": null,
   "metadata": {},
   "outputs": [],
   "source": []
  }
 ],
 "metadata": {
  "kernelspec": {
   "display_name": "Python 3",
   "language": "python",
   "name": "python3"
  },
  "language_info": {
   "codemirror_mode": {
    "name": "ipython",
    "version": 3
   },
   "file_extension": ".py",
   "mimetype": "text/x-python",
   "name": "python",
   "nbconvert_exporter": "python",
   "pygments_lexer": "ipython3",
   "version": "3.8.3"
  }
 },
 "nbformat": 4,
 "nbformat_minor": 4
}
