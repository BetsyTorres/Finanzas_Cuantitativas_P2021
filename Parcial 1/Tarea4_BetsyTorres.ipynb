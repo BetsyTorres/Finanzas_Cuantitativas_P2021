{
 "cells": [
  {
   "cell_type": "markdown",
   "metadata": {},
   "source": [
    "# Esta tarea fue realizada en equipo por Betsy Torres, Mariana Briones y Erick Mendoza\n",
    "\n",
    "# <font color='navy'> Tarea 4\n",
    "\n",
    "## 4.1\n",
    "The following table list different cash flows that management believes a project might earn in the fifth year od it's life. Listed also in the table is management's estimate of the probability associated with each of the alternative possible cash flows the project might generate in that year. "
   ]
  },
  {
   "cell_type": "code",
   "execution_count": 1,
   "metadata": {},
   "outputs": [],
   "source": [
    "# Chechar screeeeeeeeeeens\n",
    "import pandas as pd\n",
    "import numpy as np"
   ]
  },
  {
   "cell_type": "code",
   "execution_count": 6,
   "metadata": {},
   "outputs": [
    {
     "data": {
      "text/html": [
       "<div>\n",
       "<style scoped>\n",
       "    .dataframe tbody tr th:only-of-type {\n",
       "        vertical-align: middle;\n",
       "    }\n",
       "\n",
       "    .dataframe tbody tr th {\n",
       "        vertical-align: top;\n",
       "    }\n",
       "\n",
       "    .dataframe thead th {\n",
       "        text-align: right;\n",
       "    }\n",
       "</style>\n",
       "<table border=\"1\" class=\"dataframe\">\n",
       "  <thead>\n",
       "    <tr style=\"text-align: right;\">\n",
       "      <th></th>\n",
       "      <th>Cash Flows</th>\n",
       "      <th>Probability</th>\n",
       "    </tr>\n",
       "  </thead>\n",
       "  <tbody>\n",
       "    <tr>\n",
       "      <td>0</td>\n",
       "      <td>20.0</td>\n",
       "      <td>0.04</td>\n",
       "    </tr>\n",
       "    <tr>\n",
       "      <td>1</td>\n",
       "      <td>17.5</td>\n",
       "      <td>0.06</td>\n",
       "    </tr>\n",
       "    <tr>\n",
       "      <td>2</td>\n",
       "      <td>15.0</td>\n",
       "      <td>0.12</td>\n",
       "    </tr>\n",
       "    <tr>\n",
       "      <td>3</td>\n",
       "      <td>12.5</td>\n",
       "      <td>0.18</td>\n",
       "    </tr>\n",
       "    <tr>\n",
       "      <td>4</td>\n",
       "      <td>10.0</td>\n",
       "      <td>0.20</td>\n",
       "    </tr>\n",
       "    <tr>\n",
       "      <td>5</td>\n",
       "      <td>7.5</td>\n",
       "      <td>0.18</td>\n",
       "    </tr>\n",
       "    <tr>\n",
       "      <td>6</td>\n",
       "      <td>5.0</td>\n",
       "      <td>0.12</td>\n",
       "    </tr>\n",
       "    <tr>\n",
       "      <td>7</td>\n",
       "      <td>2.5</td>\n",
       "      <td>0.06</td>\n",
       "    </tr>\n",
       "    <tr>\n",
       "      <td>8</td>\n",
       "      <td>0.0</td>\n",
       "      <td>0.04</td>\n",
       "    </tr>\n",
       "  </tbody>\n",
       "</table>\n",
       "</div>"
      ],
      "text/plain": [
       "   Cash Flows  Probability\n",
       "0        20.0         0.04\n",
       "1        17.5         0.06\n",
       "2        15.0         0.12\n",
       "3        12.5         0.18\n",
       "4        10.0         0.20\n",
       "5         7.5         0.18\n",
       "6         5.0         0.12\n",
       "7         2.5         0.06\n",
       "8         0.0         0.04"
      ]
     },
     "execution_count": 6,
     "metadata": {},
     "output_type": "execute_result"
    }
   ],
   "source": [
    "cash_flows = [20, 17.5, 15, 12.5, 10, 7.5, 5, 2.5, 0]\n",
    "probability = [0.04, 0.06, 0.12, 0.18, 0.20, 0.18, 0.12, 0.06, 0.04]\n",
    "data = pd.DataFrame({'Cash Flows': cash_flows, 'Probability': probability})\n",
    "data"
   ]
  },
  {
   "cell_type": "markdown",
   "metadata": {},
   "source": [
    "**a) What is the expected cash flow in year 5?**"
   ]
  },
  {
   "cell_type": "code",
   "execution_count": 32,
   "metadata": {},
   "outputs": [
    {
     "name": "stdout",
     "output_type": "stream",
     "text": [
      "El flujo de efectivo esperado en el año 5 es de: 10.0\n"
     ]
    }
   ],
   "source": [
    "exp_cash = np.dot(cash_flows,probability)\n",
    "print('El flujo de efectivo esperado en el año 5 es de:',exp_cash)"
   ]
  },
  {
   "cell_type": "markdown",
   "metadata": {},
   "source": [
    "**b) Each of the possible cash flows is different from the expected cash flow, If we square each of the differences from the expected cash flow and calculate the probability-weighted average of these squared differences, we obtain the variance of the cash flow. Calculate the variance of the year 5 cash flow.**"
   ]
  },
  {
   "cell_type": "code",
   "execution_count": 34,
   "metadata": {},
   "outputs": [
    {
     "name": "stdout",
     "output_type": "stream",
     "text": [
      "La varianza de los flujos de efectivo es de: 0.5709876543209877\n"
     ]
    }
   ],
   "source": [
    "var = np.multiply(cash_flows, probability).var()\n",
    "print('La varianza de los flujos de efectivo es de:', var)"
   ]
  },
  {
   "cell_type": "markdown",
   "metadata": {},
   "source": [
    "**c) The standard deviation is the square root of the variance. Calculate the standard deviation of the year 5 cash flow.**"
   ]
  },
  {
   "cell_type": "code",
   "execution_count": 37,
   "metadata": {},
   "outputs": [
    {
     "name": "stdout",
     "output_type": "stream",
     "text": [
      "La desviación estandar de la varianza de los flujos de efectivo en el año 5 es de: 0.7556372504853025\n"
     ]
    }
   ],
   "source": [
    "std = var**0.5\n",
    "print('La desviación estandar de la varianza de los flujos de efectivo en el año 5 es de:', std)"
   ]
  },
  {
   "cell_type": "markdown",
   "metadata": {},
   "source": [
    "## 4.2\n"
   ]
  },
  {
   "cell_type": "markdown",
   "metadata": {},
   "source": [
    "The XTRON product requires a € 1 million investmentin one´s year time if management should decides to launch the product. The project sponsor believes that the NPV will be € 200,000, but the probability is 20% that the NPV will be - € 100,000 instead. How much value can management expect this investment to add for shareholders at that time?"
   ]
  },
  {
   "cell_type": "code",
   "execution_count": 10,
   "metadata": {},
   "outputs": [],
   "source": [
    "NPV = [200000, -100000] #sucess, failure\n",
    "prob = [0.8, 0.2] #sucess, failure\n",
    "def arbol_decision(NPV, prob):\n",
    "    invest = NPV[0] * prob[0] + NPV[1] * prob[1]\n",
    "    no_invest = 0\n",
    "    if invest > no_invest:\n",
    "        print (\"Invertir en producto, y obtendrá una ganancia de: \", invest)\n",
    "    else:\n",
    "        print(\"No invertir  porque tendrá pérdidas\")"
   ]
  },
  {
   "cell_type": "code",
   "execution_count": 11,
   "metadata": {},
   "outputs": [
    {
     "name": "stdout",
     "output_type": "stream",
     "text": [
      "Invertir en producto, y asi se llegará a:  140000.0\n"
     ]
    }
   ],
   "source": [
    "arbol_decision(NPV, prob)"
   ]
  },
  {
   "cell_type": "markdown",
   "metadata": {},
   "source": [
    "## 4.3\n",
    "\n",
    "Company A would like to buy Company B and needs to know how much it should be willing to pay. Company A has potential uses for Company B's assests that would make the assests worth €20 million to Company A. The present value of Comapny B's debt is €15 million. The number of issued shares in B is 5 million.\n",
    "\n",
    "What is the most that Company A should be willing to pay per share for company B?\n"
   ]
  },
  {
   "cell_type": "markdown",
   "metadata": {},
   "source": [
    "##### **DEFINITIONS**:\n",
    "\n",
    "- **Equity:** Net worth or shareholder's capital represented by common stock (ordinary shares) and preferred stock.\n",
    "\n",
    "- **Assets:** Cash, equipment, real state.\n",
    "\n",
    "- **Liabilities:** Debt."
   ]
  },
  {
   "cell_type": "markdown",
   "metadata": {},
   "source": [
    "In this problem we have:\n",
    "\n",
    "+ Assets= 20'000,000.00\n",
    "\n",
    "+ Liabilities= 15'000,000.00\n",
    "\n",
    "\n",
    "$$ Assets = Liabilities + Equity $$\n",
    "$$ Assets - Liabilities = Equity $$\n",
    "\n",
    "$$ 20'000,000 - 15'000,000 = Equity $$\n",
    "$$ 5'000,000 = Equity $$\n"
   ]
  },
  {
   "cell_type": "markdown",
   "metadata": {},
   "source": [
    "| BALANCE SHEET |               |\n",
    "|:-------------:|---------------|\n",
    "|     **Assets**   |  **Liabilities**  |\n",
    "| 20'000,000.00 | 15'000,000.00 |\n",
    "|               | **Equity**        |\n",
    "|               | 5'000,000.00  |\n",
    "|     **TOTALS**    |               |\n",
    "| 20'000,000.00 | 20'000,000.00 |"
   ]
  },
  {
   "cell_type": "markdown",
   "metadata": {},
   "source": [
    "Sabemos que activos(assets) equivale al pasivo(equity) más capital(liabilities). \n",
    "Debido a ésto, para saber el precio justo a pagar por la Compañia A, es necesario descontar las duedas a los activos\n",
    "\n",
    "20'000,000.00 - 15'000,000.00 = 5'000,000.00\n",
    "\n",
    "Ya que se tiene ésto, es necesario dividirla entre el capital social para poder saber la cantidad exacta a pagar por acción.\n",
    "\n",
    "$$\\frac{5'000,000.00}{5'000,000.00} = 1'000,000.00$$\n",
    "\n",
    "\n",
    "\n"
   ]
  },
  {
   "cell_type": "markdown",
   "metadata": {},
   "source": [
    "**La cantidad justa a pagar por la Compañia B es de €1'000,000.00 por acción.**"
   ]
  }
 ],
 "metadata": {
  "kernelspec": {
   "display_name": "Python 3",
   "language": "python",
   "name": "python3"
  },
  "language_info": {
   "codemirror_mode": {
    "name": "ipython",
    "version": 3
   },
   "file_extension": ".py",
   "mimetype": "text/x-python",
   "name": "python",
   "nbconvert_exporter": "python",
   "pygments_lexer": "ipython3",
   "version": "3.8.3"
  }
 },
 "nbformat": 4,
 "nbformat_minor": 2
}
