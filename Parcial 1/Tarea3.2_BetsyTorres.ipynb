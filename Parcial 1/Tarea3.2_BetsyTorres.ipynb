{
 "cells": [
  {
   "cell_type": "markdown",
   "metadata": {},
   "source": [
    "# Esta tarea fue realizada en equipo por Betsy Torres, Mariana Briones & Erick Mendoza\n",
    "\n",
    "# Tarea 3.2"
   ]
  },
  {
   "cell_type": "markdown",
   "metadata": {},
   "source": [
    "Usando la propiedades de variables aelatorias y el archivo de las ventas de cada año, responda analíticamente."
   ]
  },
  {
   "cell_type": "code",
   "execution_count": 3,
   "metadata": {},
   "outputs": [],
   "source": [
    "import pandas as pd\n",
    "import numpy as np\n",
    "import scipy.stats as st\n",
    "import matplotlib.pyplot as plt\n",
    "pd.core.common.is_list_like = pd.api.types.is_list_like\n",
    "import pandas_datareader.data as web \n",
    "import warnings\n",
    "from scipy.stats import norm"
   ]
  },
  {
   "cell_type": "code",
   "execution_count": 21,
   "metadata": {},
   "outputs": [],
   "source": [
    "def tabla_resumen(util):\n",
    "    '''se inserta la tabla con los flujos'''\n",
    "    vec_datos_irr = np.zeros(util.shape[0],)\n",
    "    vec_datos_vpn=np.zeros(util.shape[0],)\n",
    "    for i in range(len(vec_datos_irr)):\n",
    "        vec_datos_irr[i] = np.irr(util.loc[i].values)\n",
    "        vec_datos_vpn[i] = np.npv(rf,util.loc[i].values)\n",
    "        util[\"IRR\"]=vec_datos_irr*100\n",
    "        util[\"VPN\"]=vec_datos_vpn\n",
    "    return(util)\n",
    "\n",
    "def func(rf:'Tasa libre de riesgo', flujos:'flujos de efectivo'):\n",
    "    '''Esta función calculará la TIE y el VPN de los datos, los cuales son fujos \n",
    "    de efectivo, y arrojará los resultados por medio de listas'''\n",
    "    l_irr=[]\n",
    "    l_npv=[]\n",
    "\n",
    "    for i in range(len(flujos)):\n",
    "        ans_irr=np.irr(flujos.iloc[i,0:6])*100\n",
    "        ans_npv=np.npv(rf,flujos.iloc[i,0:6])\n",
    "        \n",
    "        l_irr.append(ans_irr)        \n",
    "        l_npv.append(ans_npv)\n",
    "    \n",
    "    return l_irr,l_npv\n",
    "\n",
    "# Create models from data\n",
    "def best_fit_distribution(data, bins=200, ax=None):\n",
    "    \"\"\"Model data by finding best fit distribution to data\"\"\"\n",
    "    # Get histogram of original data\n",
    "    y, x = np.histogram(data, bins=bins, density=True)\n",
    "    x = (x + np.roll(x, -1))[:-1] / 2.0\n",
    "\n",
    "    # Distributions to check\n",
    "   # DISTRIBUTIONS = [        \n",
    "      #  st.alpha,st.anglit,st.arcsine,st.beta,st.betaprime,st.bradford,st.burr,st.cauchy,st.chi,st.chi2,st.cosine,\n",
    "       # st.dgamma,st.dweibull,st.erlang,st.expon,st.exponnorm,st.exponweib,st.exponpow,st.f,st.fatiguelife,st.fisk,\n",
    "        #st.foldcauchy,st.foldnorm,st.frechet_r,st.frechet_l,st.genlogistic,st.genpareto,st.gennorm,st.genexpon,\n",
    "      #  st.genextreme,st.gausshyper,st.gamma,st.gengamma,st.genhalflogistic,st.gilbrat,st.gompertz,st.gumbel_r,\n",
    "      #  st.gumbel_l,st.halfcauchy,st.halflogistic,st.halfnorm,st.halfgennorm,st.hypsecant,st.invgamma,st.invgauss,\n",
    "      #  st.invweibull,st.johnsonsb,st.johnsonsu,st.ksone,st.kstwobign,st.laplace,st.levy,st.levy_l,st.levy_stable,\n",
    "      #  st.logistic,st.loggamma,st.loglaplace,st.lognorm,st.lomax,st.maxwell,st.mielke,st.nakagami,st.ncx2,st.ncf,\n",
    "      #  st.nct,st.norm,st.pareto,st.pearson3,st.powerlaw,st.powerlognorm,st.powernorm,st.rdist,st.reciprocal,\n",
    "      #  st.rayleigh,st.rice,st.recipinvgauss,st.semicircular,st.t,st.triang,st.truncexpon,st.truncnorm,st.tukeylambda,\n",
    "      #  st.uniform,st.vonmises,st.vonmises_line,st.wald,st.weibull_min,st.weibull_max,st.wrapcauchy\n",
    "    #]\n",
    "\n",
    "  # Distributions to check\n",
    "    DISTRIBUTIONS = [        \n",
    "        \n",
    "        st.genexpon,st.lognorm,st.maxwell,st.ncx2,\n",
    "        \n",
    "        st.norm, st.uniform,st.beta #agregar Beta\n",
    "    ]\n",
    "\n",
    "\n",
    "    # Best holders\n",
    "    best_distribution = st.norm\n",
    "    best_params = (0.0, 1.0)\n",
    "    best_sse = np.inf\n",
    "\n",
    "    # Estimate distribution parameters from data\n",
    "    for distribution in DISTRIBUTIONS:\n",
    "\n",
    "        # Try to fit the distribution\n",
    "        try:\n",
    "            # Ignore warnings from data that can't be fit\n",
    "            with warnings.catch_warnings():\n",
    "                warnings.filterwarnings('ignore')\n",
    "\n",
    "                # fit dist to data\n",
    "                params = distribution.fit(data)\n",
    "\n",
    "                # Separate parts of parameters\n",
    "                arg = params[:-2]\n",
    "                loc = params[-2]\n",
    "                scale = params[-1]\n",
    "\n",
    "                # Calculate fitted PDF and error with fit in distribution\n",
    "                pdf = distribution.pdf(x, loc=loc, scale=scale, *arg)\n",
    "                sse = np.sum(np.power(y - pdf, 2.0))\n",
    "\n",
    "                # if axis pass in add to plot\n",
    "                try:\n",
    "                    if ax:\n",
    "                        pd.Series(pdf, x).plot(ax=ax)\n",
    "                \n",
    "                except Exception:\n",
    "                    pass\n",
    "\n",
    "                # identify if this distribution is better\n",
    "                if best_sse > sse > 0:\n",
    "                    best_distribution = distribution\n",
    "                    best_params = params\n",
    "                    best_sse = sse\n",
    "\n",
    "        except Exception:\n",
    "            pass\n",
    "\n",
    "    return (best_distribution.name, best_params)\n",
    "\n",
    "def make_pdf(dist, params, size=10000):\n",
    "    \"\"\"Generate distributions's Probability Distribution Function \"\"\"\n",
    "\n",
    "    # Separate parts of parameters\n",
    "    arg = params[:-2]\n",
    "    loc = params[-2]\n",
    "    scale = params[-1]\n",
    "\n",
    "    # Get sane start and end points of distribution\n",
    "    start = dist.ppf(0.01, *arg, loc=loc, scale=scale) if arg else dist.ppf(0.01, loc=loc, scale=scale)\n",
    "    end = dist.ppf(0.99, *arg, loc=loc, scale=scale) if arg else dist.ppf(0.99, loc=loc, scale=scale)\n",
    "\n",
    "    # Build PDF and turn into pandas Series\n",
    "    x = np.linspace(start, end, size)\n",
    "    y = dist.pdf(x, loc=loc, scale=scale, *arg)\n",
    "    pdf = pd.Series(y, x)\n",
    "\n",
    "    return pdf"
   ]
  },
  {
   "cell_type": "markdown",
   "metadata": {},
   "source": [
    "**a)¿Cual es el valor esperado de las ventas del año 1 y año 2?**\n",
    "\n",
    "El año 1 sigue una distribución normal y el año dos sigue una distribución uniforme, de manera que para una distribución normal, el valor esperado será el promedio. Sin embargo, para una distribución uniforme, se debe de calcular el valor esperado de la siguiente forma: $\\frac{a+b}{2}$ donde a y b son constantes numéricas."
   ]
  },
  {
   "cell_type": "code",
   "execution_count": 5,
   "metadata": {
    "scrolled": true
   },
   "outputs": [
    {
     "data": {
      "text/html": [
       "<div>\n",
       "<style scoped>\n",
       "    .dataframe tbody tr th:only-of-type {\n",
       "        vertical-align: middle;\n",
       "    }\n",
       "\n",
       "    .dataframe tbody tr th {\n",
       "        vertical-align: top;\n",
       "    }\n",
       "\n",
       "    .dataframe thead th {\n",
       "        text-align: right;\n",
       "    }\n",
       "</style>\n",
       "<table border=\"1\" class=\"dataframe\">\n",
       "  <thead>\n",
       "    <tr style=\"text-align: right;\">\n",
       "      <th></th>\n",
       "      <th>Year 1</th>\n",
       "      <th>Year 2</th>\n",
       "      <th>Year 3</th>\n",
       "      <th>Year 4</th>\n",
       "      <th>Year 5</th>\n",
       "    </tr>\n",
       "  </thead>\n",
       "  <tbody>\n",
       "    <tr>\n",
       "      <th>0</th>\n",
       "      <td>203726</td>\n",
       "      <td>279969</td>\n",
       "      <td>465303</td>\n",
       "      <td>200445</td>\n",
       "      <td>96319</td>\n",
       "    </tr>\n",
       "    <tr>\n",
       "      <th>1</th>\n",
       "      <td>263845</td>\n",
       "      <td>272439</td>\n",
       "      <td>2192</td>\n",
       "      <td>199901</td>\n",
       "      <td>0</td>\n",
       "    </tr>\n",
       "    <tr>\n",
       "      <th>2</th>\n",
       "      <td>27726</td>\n",
       "      <td>334861</td>\n",
       "      <td>82265</td>\n",
       "      <td>199954</td>\n",
       "      <td>64958</td>\n",
       "    </tr>\n",
       "    <tr>\n",
       "      <th>3</th>\n",
       "      <td>293801</td>\n",
       "      <td>210117</td>\n",
       "      <td>275087</td>\n",
       "      <td>199934</td>\n",
       "      <td>0</td>\n",
       "    </tr>\n",
       "    <tr>\n",
       "      <th>4</th>\n",
       "      <td>297319</td>\n",
       "      <td>242569</td>\n",
       "      <td>464097</td>\n",
       "      <td>200598</td>\n",
       "      <td>141285</td>\n",
       "    </tr>\n",
       "  </tbody>\n",
       "</table>\n",
       "</div>"
      ],
      "text/plain": [
       "     Year 1      Year 2      Year 3      Year 4      Year 5  \n",
       "0      203726      279969      465303      200445       96319\n",
       "1      263845      272439        2192      199901           0\n",
       "2       27726      334861       82265      199954       64958\n",
       "3      293801      210117      275087      199934           0\n",
       "4      297319      242569      464097      200598      141285"
      ]
     },
     "execution_count": 5,
     "metadata": {},
     "output_type": "execute_result"
    }
   ],
   "source": [
    "data=pd.read_csv('Data_OilCompany.csv')\n",
    "data.head()"
   ]
  },
  {
   "cell_type": "code",
   "execution_count": 25,
   "metadata": {},
   "outputs": [],
   "source": [
    "y1_dist=best_fit_distribution(data.iloc[:,0])\n",
    "y2_dist=best_fit_distribution(data.iloc[:,1])\n",
    "y3_dist=best_fit_distribution(data.iloc[:,2])\n",
    "y4_dist=best_fit_distribution(data.iloc[:,3])\n",
    "y5_dist=best_fit_distribution(data.iloc[:,4])"
   ]
  },
  {
   "cell_type": "code",
   "execution_count": 39,
   "metadata": {},
   "outputs": [
    {
     "data": {
      "text/plain": [
       "(('norm', (196593.614, 98549.90341700494)),\n",
       " ('uniform', (150096.0, 199816.0)),\n",
       " ('beta',\n",
       "  (0.7832820902502415,\n",
       "   0.8445188351664095,\n",
       "   0.9999999999999999,\n",
       "   500520.6241317627)),\n",
       " ('beta',\n",
       "  (31.034327182930713,\n",
       "   28.97044550413866,\n",
       "   196812.8021867012,\n",
       "   6161.0839821873515)),\n",
       " ('beta',\n",
       "  (0.6762186672763196,\n",
       "   4.754043977151072,\n",
       "   -5.642702015324872e-29,\n",
       "   514937.6521743612)))"
      ]
     },
     "execution_count": 39,
     "metadata": {},
     "output_type": "execute_result"
    }
   ],
   "source": [
    "y1_dist, y2_dist, y3_dist,y4_dist,y5_dist"
   ]
  },
  {
   "cell_type": "code",
   "execution_count": 40,
   "metadata": {
    "scrolled": true
   },
   "outputs": [
    {
     "data": {
      "text/html": [
       "<div>\n",
       "<style scoped>\n",
       "    .dataframe tbody tr th:only-of-type {\n",
       "        vertical-align: middle;\n",
       "    }\n",
       "\n",
       "    .dataframe tbody tr th {\n",
       "        vertical-align: top;\n",
       "    }\n",
       "\n",
       "    .dataframe thead th {\n",
       "        text-align: right;\n",
       "    }\n",
       "</style>\n",
       "<table border=\"1\" class=\"dataframe\">\n",
       "  <thead>\n",
       "    <tr style=\"text-align: right;\">\n",
       "      <th></th>\n",
       "      <th>Años</th>\n",
       "      <th>Distribución</th>\n",
       "      <th>Parámetro 1</th>\n",
       "      <th>Parámetro 2</th>\n",
       "      <th>Parámetro 3</th>\n",
       "      <th>Parámetro 4</th>\n",
       "    </tr>\n",
       "  </thead>\n",
       "  <tbody>\n",
       "    <tr>\n",
       "      <th>0</th>\n",
       "      <td>Year 1</td>\n",
       "      <td>norm</td>\n",
       "      <td>196593.614000</td>\n",
       "      <td>98549.903417</td>\n",
       "      <td>n/a</td>\n",
       "      <td>n/a</td>\n",
       "    </tr>\n",
       "    <tr>\n",
       "      <th>1</th>\n",
       "      <td>Year 2</td>\n",
       "      <td>uniform</td>\n",
       "      <td>150096.000000</td>\n",
       "      <td>199816.000000</td>\n",
       "      <td>n/a</td>\n",
       "      <td>n/a</td>\n",
       "    </tr>\n",
       "    <tr>\n",
       "      <th>2</th>\n",
       "      <td>Year 3</td>\n",
       "      <td>beta</td>\n",
       "      <td>0.783282</td>\n",
       "      <td>0.844519</td>\n",
       "      <td>1</td>\n",
       "      <td>500521</td>\n",
       "    </tr>\n",
       "    <tr>\n",
       "      <th>3</th>\n",
       "      <td>Year 4</td>\n",
       "      <td>beta</td>\n",
       "      <td>31.034327</td>\n",
       "      <td>28.970446</td>\n",
       "      <td>196813</td>\n",
       "      <td>6161.08</td>\n",
       "    </tr>\n",
       "    <tr>\n",
       "      <th>4</th>\n",
       "      <td>Year 5</td>\n",
       "      <td>beta</td>\n",
       "      <td>0.676219</td>\n",
       "      <td>4.754044</td>\n",
       "      <td>-5.6427e-29</td>\n",
       "      <td>514938</td>\n",
       "    </tr>\n",
       "  </tbody>\n",
       "</table>\n",
       "</div>"
      ],
      "text/plain": [
       "     Años Distribución    Parámetro 1    Parámetro 2 Parámetro 3 Parámetro 4\n",
       "0  Year 1         norm  196593.614000   98549.903417         n/a         n/a\n",
       "1  Year 2      uniform  150096.000000  199816.000000         n/a         n/a\n",
       "2  Year 3         beta       0.783282       0.844519           1      500521\n",
       "3  Year 4         beta      31.034327      28.970446      196813     6161.08\n",
       "4  Year 5         beta       0.676219       4.754044 -5.6427e-29      514938"
      ]
     },
     "execution_count": 40,
     "metadata": {},
     "output_type": "execute_result"
    }
   ],
   "source": [
    "t_dist=pd.DataFrame()\n",
    "t_dist['Años']=[\"Year 1\",\"Year 2\",\"Year 3\",\"Year 4\",\"Year 5\"]\n",
    "t_dist['Distribución']=[y1_dist[0],y2_dist[0],y3_dist[0],y4_dist[0],y5_dist[0]]\n",
    "t_dist['Parámetro 1']=[y1_dist[1][0],y2_dist[1][0],y3_dist[1][0],y4_dist[1][0],y5_dist[1][0]]\n",
    "t_dist['Parámetro 2']=[y1_dist[1][1],y2_dist[1][1],y3_dist[1][1],y4_dist[1][1],y5_dist[1][1]]\n",
    "t_dist['Parámetro 3']= ['n/a','n/a',y3_dist[1][2],y4_dist[1][2],y5_dist[1][2]]\n",
    "t_dist['Parámetro 4']= ['n/a','n/a',y3_dist[1][3],y4_dist[1][3],y5_dist[1][3]]\n",
    "t_dist"
   ]
  },
  {
   "cell_type": "markdown",
   "metadata": {},
   "source": [
    "- Valor esperado de una distribución normal, sabemos que es el promedio. \n",
    "- Valor esperado de una distribución uniforme: $\\frac{a+b}{2}$"
   ]
  },
  {
   "cell_type": "code",
   "execution_count": 68,
   "metadata": {
    "scrolled": true
   },
   "outputs": [
    {
     "data": {
      "text/plain": [
       "196593.614"
      ]
     },
     "execution_count": 68,
     "metadata": {},
     "output_type": "execute_result"
    }
   ],
   "source": [
    "e_1=y1_dist[1][0]\n",
    "e_1"
   ]
  },
  {
   "cell_type": "code",
   "execution_count": 69,
   "metadata": {},
   "outputs": [
    {
     "data": {
      "text/plain": [
       "250004.0"
      ]
     },
     "execution_count": 69,
     "metadata": {},
     "output_type": "execute_result"
    }
   ],
   "source": [
    "e_2=(data.iloc[:,1].max()+data.iloc[:,1].min())/2\n",
    "e_2"
   ]
  },
  {
   "cell_type": "code",
   "execution_count": 72,
   "metadata": {},
   "outputs": [
    {
     "data": {
      "text/plain": [
       "446597.614"
      ]
     },
     "execution_count": 72,
     "metadata": {},
     "output_type": "execute_result"
    }
   ],
   "source": [
    "e_1+e_2"
   ]
  },
  {
   "cell_type": "code",
   "execution_count": 73,
   "metadata": {},
   "outputs": [
    {
     "data": {
      "text/plain": [
       "2232988.0700000003"
      ]
     },
     "execution_count": 73,
     "metadata": {},
     "output_type": "execute_result"
    }
   ],
   "source": [
    "5*e_1+5*e_2"
   ]
  },
  {
   "cell_type": "markdown",
   "metadata": {},
   "source": [
    "Con la propiedad del valor esperado de una variable aleatoria:\n",
    "\n",
    "$$E[z] = E [x + y ]$$\n",
    "\n",
    "$$= E[x]+ E [y] = E[y]+ E [x]$$ por lo tanto...\n",
    "\n",
    "- x = Ventas Año 1\n",
    "- y = Ventas Año 2\n",
    "- z = Ventas en el año 1 y 2 \n",
    "- P = Precio\n",
    "\n",
    "$$E[z] = E[(P)(x)+ (P)(y)]$$\n",
    "\n",
    "$$E[z] = E[(P)(x + y)]$$\n",
    "\n",
    "Dado que P es una constante ....\n",
    "\n",
    "$$E[z] = (P)E[(x + y)]$$\n",
    "\n",
    "$$E[z] = (P)E[x] + (P)E[y]$$\n",
    "\n",
    "Como Precio=5\n",
    "\n",
    "\n",
    "$$E[z] = (5)(196593.614) + (5)(2500004)$$\n",
    "\n",
    "$$E[z] = 2,232,988.07$$"
   ]
  },
  {
   "cell_type": "markdown",
   "metadata": {},
   "source": [
    "**b) ¿Cuál es el valor esperado del retorno en valor presente para la vida del producto?**"
   ]
  },
  {
   "cell_type": "markdown",
   "metadata": {},
   "source": [
    "- Primero establecemos los datos iniciales para poder obtener el valor presente."
   ]
  },
  {
   "cell_type": "code",
   "execution_count": 9,
   "metadata": {},
   "outputs": [],
   "source": [
    "rf=0.03\n",
    "price=5\n",
    "cost=0.8\n",
    "fixed=40000\n",
    "inv=1800000"
   ]
  },
  {
   "cell_type": "code",
   "execution_count": 10,
   "metadata": {},
   "outputs": [
    {
     "data": {
      "text/html": [
       "<div>\n",
       "<style scoped>\n",
       "    .dataframe tbody tr th:only-of-type {\n",
       "        vertical-align: middle;\n",
       "    }\n",
       "\n",
       "    .dataframe tbody tr th {\n",
       "        vertical-align: top;\n",
       "    }\n",
       "\n",
       "    .dataframe thead th {\n",
       "        text-align: right;\n",
       "    }\n",
       "</style>\n",
       "<table border=\"1\" class=\"dataframe\">\n",
       "  <thead>\n",
       "    <tr style=\"text-align: right;\">\n",
       "      <th></th>\n",
       "      <th>Year 0</th>\n",
       "      <th>Year 1</th>\n",
       "      <th>Year 2</th>\n",
       "      <th>Year 3</th>\n",
       "      <th>Year 4</th>\n",
       "      <th>Year 5</th>\n",
       "    </tr>\n",
       "  </thead>\n",
       "  <tbody>\n",
       "    <tr>\n",
       "      <th>0</th>\n",
       "      <td>-1800000.0</td>\n",
       "      <td>815649.2</td>\n",
       "      <td>1135869.8</td>\n",
       "      <td>1914272.6</td>\n",
       "      <td>801869.0</td>\n",
       "      <td>364539.8</td>\n",
       "    </tr>\n",
       "    <tr>\n",
       "      <th>1</th>\n",
       "      <td>-1800000.0</td>\n",
       "      <td>1068149.0</td>\n",
       "      <td>1104243.8</td>\n",
       "      <td>-30793.6</td>\n",
       "      <td>799584.2</td>\n",
       "      <td>-40000.0</td>\n",
       "    </tr>\n",
       "    <tr>\n",
       "      <th>2</th>\n",
       "      <td>-1800000.0</td>\n",
       "      <td>76449.2</td>\n",
       "      <td>1366416.2</td>\n",
       "      <td>305513.0</td>\n",
       "      <td>799806.8</td>\n",
       "      <td>232823.6</td>\n",
       "    </tr>\n",
       "    <tr>\n",
       "      <th>3</th>\n",
       "      <td>-1800000.0</td>\n",
       "      <td>1193964.2</td>\n",
       "      <td>842491.4</td>\n",
       "      <td>1115365.4</td>\n",
       "      <td>799722.8</td>\n",
       "      <td>-40000.0</td>\n",
       "    </tr>\n",
       "    <tr>\n",
       "      <th>4</th>\n",
       "      <td>-1800000.0</td>\n",
       "      <td>1208739.8</td>\n",
       "      <td>978789.8</td>\n",
       "      <td>1909207.4</td>\n",
       "      <td>802511.6</td>\n",
       "      <td>553397.0</td>\n",
       "    </tr>\n",
       "  </tbody>\n",
       "</table>\n",
       "</div>"
      ],
      "text/plain": [
       "      Year 0    Year 1      Year 2      Year 3      Year 4      Year 5  \n",
       "0 -1800000.0    815649.2   1135869.8   1914272.6    801869.0    364539.8\n",
       "1 -1800000.0   1068149.0   1104243.8    -30793.6    799584.2    -40000.0\n",
       "2 -1800000.0     76449.2   1366416.2    305513.0    799806.8    232823.6\n",
       "3 -1800000.0   1193964.2    842491.4   1115365.4    799722.8    -40000.0\n",
       "4 -1800000.0   1208739.8    978789.8   1909207.4    802511.6    553397.0"
      ]
     },
     "execution_count": 10,
     "metadata": {},
     "output_type": "execute_result"
    }
   ],
   "source": [
    "util=data*(price-cost)-fixed\n",
    "util[\"Year 0\"]= np.ones(util.shape[0],)*(-1800000)\n",
    "cols = util.columns.tolist()\n",
    "cols = cols[-1:] + cols[:-1]\n",
    "util=util[cols] \n",
    "util.head()"
   ]
  },
  {
   "cell_type": "markdown",
   "metadata": {},
   "source": [
    "- Fórmula de valor presente para nuestros flujos en donde:\n",
    "\n",
    "    -Precio = P\n",
    "    -Costo = C    \n",
    "    -Costo Fijo = F    \n",
    "    -Risk Free = 3%\n",
    "    -Inv_inicial = -180,000.00\n",
    "\n",
    "$$Vpn= -inv_{inicial}+\\frac{(P-C)(Año_1)-F}{(1+0.03)^1}+\\frac{(P-C)(Año_2)-F}{(1+0.03)^2}+\\frac{(P-C)(Año_3)-F}{(1+0.03)^3}+\\frac{(P-C)(Año_4)-F}{(1+0.03)^4}+\\frac{(P-C)(Año_5)-F}{(1+0.03)^5}$$\n",
    "\n",
    "$$E[Vpn]= E[-inv_{inicial}]+E[\\frac{(P-C)(Año_1)-F}{(1+0.03)^1}]+ E[\\frac{(P-C)(Año_2)-F}{(1+0.03)^2}] + E [\\frac{(P-C)(Año_3)-F}{(1+0.03)^3}] + E [\\frac{(P-C)(Año_4)-F}{(1+0.03)^4}] + E[\\frac{(P-C)(Año_5)-F}{(1+0.03)^5}]$$\n",
    "\n",
    "\n",
    "$$E[Vpn]= E[-inv_{inicial}]+\\frac{E[(P-C)(Año_1)-F]}{E[(1+0.03)^1]}+ \\frac{E[(P-C)(Año_2)-F]}{E[(1+0.03)^2]} +\\frac{E[(P-C)(Año_3)-F]}{E[(1+0.03)^3]} + \\frac{E[(P-C)(Año_4)-F]}{E[(1+0.03)^4]} + \\frac{E[(P-C)(Año_5)-F]}{E[(1+0.03)^5]}$$\n",
    "\n",
    "Como $Inv_{inicial}, (P-C), F$ y $(1+i)^n$ son constantes entonces su esperanza es la misma constante...\n",
    "\n",
    "$$E[Vpn]= -inv_{inicial}+ \\frac{(P-C)(E[Año_1])-F}{(1+0.03)^1}+ \\frac{(P-C)(E[Año_2])-F}{(1+0.03)^2} +\\frac{(P-C)(E[Año_3])-F}{(1+0.03)^3} + \\frac{(P-C)(E[Año_4])-F}{(1+0.03)^4} + \\frac{(P-C)(E[Año_5])-F}{(1+0.03)^5}$$\n",
    "\n",
    "Cálculo de los valores esperados:\n",
    "\n",
    "- Valor esperado de una distribución normal, sabemos que es el promedio. \n",
    "- Valor esperado de una distribución uniforme: $\\frac{a+b}{2}$\n",
    "- Valor esperado de una distribución lognormal: $e^{\\mu+\\frac{\\sigma^2}{2}}$\n",
    "- Valor esperado de una distribución beta: $\\frac{\\alpha}{\\alpha+\\beta}$\n",
    "\n",
    "\n",
    "$$E[Vpn]= \\frac{(P-C)(\\mu)-F}{(1+0.03)^1}+ \\frac{(P-C)(\\frac{a+b}{2})-F}{(1+0.03)^2} +\\frac{(P-C)(\\frac{\\alpha}{\\alpha+\\beta})-F}{(1+0.03)^3} + \\frac{(P-C)(\\frac{\\alpha}{\\alpha+\\beta})-F}{(1+0.03)^4} + \\frac{(P-C)(\\frac{\\alpha}{\\alpha+\\beta})-F}{(1+0.03)^5}$$"
   ]
  },
  {
   "cell_type": "code",
   "execution_count": 55,
   "metadata": {},
   "outputs": [
    {
     "name": "stdout",
     "output_type": "stream",
     "text": [
      "Valores presentes anuales consecutivamente 785693.1788000008 1007021.8303999999 987274.1213000003 799997.0705000001 265038.55970000045 Suma de los vp 3845024.760700002\n"
     ]
    }
   ],
   "source": [
    "vp_1=util.iloc[:,1].mean()\n",
    "vp_2=util.iloc[:,2].mean()\n",
    "vp_3=util.iloc[:,3].mean()\n",
    "vp_4=util.iloc[:,4].mean()\n",
    "vp_5=util.iloc[:,5].mean()\n",
    "print(\"Valores presentes anuales consecutivamente\",vp_1,vp_2,vp_3,vp_4,vp_5,\"Suma de los vp\",vp_1+vp_2+vp_3+vp_4+vp_5)"
   ]
  },
  {
   "cell_type": "markdown",
   "metadata": {},
   "source": [
    "$E[Vpn]= \\frac{785693.1788000008}{(1+0.03)^1}+ \\frac{1007021.8303999999}{(1+0.03)^2} +\\frac{987274.1213000003}{(1+0.03)^3} + \\frac{799997.0705000001}{(1+0.03)^4} + \\frac{265038.55970000045}{(1+0.03)^5}$\n",
    "\n",
    "$E[Vpn]= 3,845,024.76$\n"
   ]
  },
  {
   "cell_type": "markdown",
   "metadata": {},
   "source": [
    "**¿Cuál es la varianza?**\n",
    "\n",
    "\n",
    "$$Vpn= \\frac{(P-C)(Año_1)-F}{(1+0.03)^1}+\\frac{(P-C)(Año_2)-F}{(1+0.03)^2}+\\frac{(P-C)(Año_3)-F}{(1+0.03)^3}+\\frac{(P-C)(Año_4)-F}{(1+0.03)^4}+\\frac{(P-C)(Año_5)-F}{(1+0.03)^5}$$\n",
    "\n",
    "$$VAR[Vpn]= VAR[\\frac{(P-C)(Año_1)-F}{(1+0.03)^1}+\\frac{(P-C)(Año_2)-F}{(1+0.03)^2}+\\frac{(P-C)(Año_3)-F}{(1+0.03)^3}+\\frac{(P-C)(Año_4)-F}{(1+0.03)^4}+\\frac{(P-C)(Año_5)-F}{(1+0.03)^5}]$$\n",
    "\n",
    "$$VAR[Vpn]= \\frac{VAR[(P-C)(Año_1)-F]}{VAR[(1+0.03)^1]}+ \\frac{VAR[(P-C)(Año_2)-F]}{VAR[(1+0.03)^2]} +\\frac{VAR[(P-C)(Año_3)-F]}{VAR[(1+0.03)^3]} + \\frac{VAR[(P-C)(Año_4)-F]}{VAR[(1+0.03)^4]} + \\frac{VAR[(P-C)(Año_5)-F]}{VAR[(1+0.03)^5]}$$\n",
    "\n",
    "\n",
    "Como (P-C), F y $(1+i)^n$ son constantes entonces salen de la varianza al cuadrado...\n",
    "\n",
    "$$VAR[Vpn]= \\frac{(P-C)^2(VAR[Año_1])-F}{((1+0.03)^1)^2}+ \\frac{(P-C)^2(VAR[Año_2])-F}{((1+0.03)^2)^2} +\\frac{(P-C)^2(VAR[Año_3])-F}{((1+0.03)^3)^2} + \\frac{(P-C)^2(VAR[Año_4])-F}{((1+0.03)^4)^2} + \\frac{(P-C)^2(VAR[Año_5])-F}{((1+0.03)^5)^2}$$\n",
    "\n",
    "Al igual que en el valor esperado, la varianza se calcula de diferente manera para cada una de las distribuciones, por lo que:\n",
    "\n",
    "- Varianza de una distribución normal es la desviación estandar\n",
    "- Varianza de una distribución uniforme: $\\frac{(b-a)^2}{12}$\n",
    "- Varianza de una distribución lognormal: $(e^{\\sigma ^{2}}-1)e^{2\\mu +\\sigma ^{2}}$\n",
    "- Varianza de una distribución beta: $\\frac{\\alpha\\beta}{(\\alpha+\\beta+1)(\\alpha+\\beta)^2}$\n",
    "\n",
    "$$VAR[Vpn]= \\frac{(P-C)^2(\\sigma)}{((1+0.03)^1)^2}+ \\frac{(P-C)^2(\\frac{(b-a)^2}{12})}{((1+0.03)^2)^2} +\\frac{(P-C)^2(\\frac{\\alpha\\beta}{(\\alpha+\\beta+1)(\\alpha+\\beta)^2})}{((1+0.03)^3)^2} + \\frac{(P-C)^2(\\frac{\\alpha\\beta}{(\\alpha+\\beta+1)(\\alpha+\\beta)^2})}{((1+0.03)^4)^2} + \\frac{(P-C)^2(\\frac{\\alpha\\beta}{(\\alpha+\\beta+1)(\\alpha+\\beta)^2})}{((1+0.03)^5)^2}$$"
   ]
  },
  {
   "cell_type": "code",
   "execution_count": 76,
   "metadata": {},
   "outputs": [
    {
     "data": {
      "text/plain": [
       "(171406855724.01956,\n",
       " 58884654110.65013,\n",
       " 556212570151.7742,\n",
       " 2742121.0393694313,\n",
       " 101956967309.95157)"
      ]
     },
     "execution_count": 76,
     "metadata": {},
     "output_type": "execute_result"
    }
   ],
   "source": [
    "var_1=util.iloc[:,1].var() \n",
    "var_2=util.iloc[:,2].var()\n",
    "var_3=util.iloc[:,3].var()\n",
    "var_4=util.iloc[:,4].var()\n",
    "var_5=util.iloc[:,5].var()\n",
    "var_1,var_2,var_3,var_4,var_5, "
   ]
  },
  {
   "cell_type": "markdown",
   "metadata": {},
   "source": [
    "$$VAR[Vpn]= \\frac{171406855724.01956}{((1+0.03)^1)^2}+ \\frac{58884654110.65013}{((1+0.03)^2)^2} +\\frac{556212570151.7742}{((1+0.03)^3)^2} + \\frac{2742121.0393694313}{((1+0.03)^4)^2} + \\frac{101956967309.95157}{((1+0.03)^5)^2}$$\n",
    "\n",
    "\n",
    "$$VAR[Vpn]= 75'557,264,7985.2400$$"
   ]
  },
  {
   "cell_type": "markdown",
   "metadata": {},
   "source": [
    "**c) ¿Cuál es el valor esperado del NPV y VAR del NPV para cada año?**"
   ]
  },
  {
   "cell_type": "code",
   "execution_count": 81,
   "metadata": {},
   "outputs": [
    {
     "name": "stderr",
     "output_type": "stream",
     "text": [
      "<ipython-input-21-215ba072d674>:19: DeprecationWarning: numpy.irr is deprecated and will be removed from NumPy 1.20. Use numpy_financial.irr instead (https://pypi.org/project/numpy-financial/).\n",
      "  ans_irr=np.irr(flujos.iloc[i,0:6])*100\n",
      "<ipython-input-21-215ba072d674>:20: DeprecationWarning: numpy.npv is deprecated and will be removed from NumPy 1.20. Use numpy_financial.npv instead (https://pypi.org/project/numpy-financial/).\n",
      "  ans_npv=np.npv(rf,flujos.iloc[i,0:6])\n"
     ]
    },
    {
     "data": {
      "text/html": [
       "<div>\n",
       "<style scoped>\n",
       "    .dataframe tbody tr th:only-of-type {\n",
       "        vertical-align: middle;\n",
       "    }\n",
       "\n",
       "    .dataframe tbody tr th {\n",
       "        vertical-align: top;\n",
       "    }\n",
       "\n",
       "    .dataframe thead th {\n",
       "        text-align: right;\n",
       "    }\n",
       "</style>\n",
       "<table border=\"1\" class=\"dataframe\">\n",
       "  <thead>\n",
       "    <tr style=\"text-align: right;\">\n",
       "      <th></th>\n",
       "      <th>Year 0</th>\n",
       "      <th>Year 1</th>\n",
       "      <th>Year 2</th>\n",
       "      <th>Year 3</th>\n",
       "      <th>Year 4</th>\n",
       "      <th>Year 5</th>\n",
       "      <th>IRR</th>\n",
       "      <th>NPV</th>\n",
       "    </tr>\n",
       "  </thead>\n",
       "  <tbody>\n",
       "    <tr>\n",
       "      <th>0</th>\n",
       "      <td>-1800000.0</td>\n",
       "      <td>815649.2</td>\n",
       "      <td>1135869.8</td>\n",
       "      <td>1914272.6</td>\n",
       "      <td>801869.0</td>\n",
       "      <td>364539.8</td>\n",
       "      <td>50.81</td>\n",
       "      <td>2841294.71</td>\n",
       "    </tr>\n",
       "    <tr>\n",
       "      <th>1</th>\n",
       "      <td>-1800000.0</td>\n",
       "      <td>1068149.0</td>\n",
       "      <td>1104243.8</td>\n",
       "      <td>-30793.6</td>\n",
       "      <td>799584.2</td>\n",
       "      <td>-40000.0</td>\n",
       "      <td>27.23</td>\n",
       "      <td>925628.90</td>\n",
       "    </tr>\n",
       "    <tr>\n",
       "      <th>2</th>\n",
       "      <td>-1800000.0</td>\n",
       "      <td>76449.2</td>\n",
       "      <td>1366416.2</td>\n",
       "      <td>305513.0</td>\n",
       "      <td>799806.8</td>\n",
       "      <td>232823.6</td>\n",
       "      <td>16.70</td>\n",
       "      <td>753242.18</td>\n",
       "    </tr>\n",
       "    <tr>\n",
       "      <th>3</th>\n",
       "      <td>-1800000.0</td>\n",
       "      <td>1193964.2</td>\n",
       "      <td>842491.4</td>\n",
       "      <td>1115365.4</td>\n",
       "      <td>799722.8</td>\n",
       "      <td>-40000.0</td>\n",
       "      <td>43.53</td>\n",
       "      <td>1850073.83</td>\n",
       "    </tr>\n",
       "    <tr>\n",
       "      <th>4</th>\n",
       "      <td>-1800000.0</td>\n",
       "      <td>1208739.8</td>\n",
       "      <td>978789.8</td>\n",
       "      <td>1909207.4</td>\n",
       "      <td>802511.6</td>\n",
       "      <td>553397.0</td>\n",
       "      <td>59.10</td>\n",
       "      <td>3233718.55</td>\n",
       "    </tr>\n",
       "  </tbody>\n",
       "</table>\n",
       "</div>"
      ],
      "text/plain": [
       "      Year 0    Year 1      Year 2      Year 3      Year 4      Year 5    \\\n",
       "0 -1800000.0    815649.2   1135869.8   1914272.6    801869.0    364539.8   \n",
       "1 -1800000.0   1068149.0   1104243.8    -30793.6    799584.2    -40000.0   \n",
       "2 -1800000.0     76449.2   1366416.2    305513.0    799806.8    232823.6   \n",
       "3 -1800000.0   1193964.2    842491.4   1115365.4    799722.8    -40000.0   \n",
       "4 -1800000.0   1208739.8    978789.8   1909207.4    802511.6    553397.0   \n",
       "\n",
       "     IRR         NPV  \n",
       "0  50.81  2841294.71  \n",
       "1  27.23   925628.90  \n",
       "2  16.70   753242.18  \n",
       "3  43.53  1850073.83  \n",
       "4  59.10  3233718.55  "
      ]
     },
     "execution_count": 81,
     "metadata": {},
     "output_type": "execute_result"
    }
   ],
   "source": [
    "# Data frame completo de los flujos, valor pesente neto y tie\n",
    "\n",
    "tabla = util\n",
    "tie, vpn = func(0.03,util)\n",
    "tabla['IRR']=tie\n",
    "tabla['NPV']=vpn\n",
    "tabla['NPV']=tabla['NPV'].round(2)\n",
    "tabla['IRR']=tabla['IRR'].round(2)\n",
    "tabla.head()"
   ]
  },
  {
   "cell_type": "markdown",
   "metadata": {},
   "source": [
    "Como el NPV sigue una distribución normal, podemos calcular su valor esperado de la forma convencional:\n"
   ]
  },
  {
   "cell_type": "code",
   "execution_count": 82,
   "metadata": {},
   "outputs": [
    {
     "data": {
      "text/plain": [
       "1754930.8720650005"
      ]
     },
     "execution_count": 82,
     "metadata": {},
     "output_type": "execute_result"
    }
   ],
   "source": [
    "vpn=tabla.iloc[:,7].mean()\n",
    "vpn"
   ]
  },
  {
   "cell_type": "markdown",
   "metadata": {},
   "source": [
    "Sea z el VPN\n",
    "\n",
    "$$E[z]=1'754,930.8721101447$$"
   ]
  },
  {
   "cell_type": "markdown",
   "metadata": {},
   "source": [
    "Para calcular la varianza tenemos la propiedad:\n",
    "\n",
    "$$Var[x] = Cov(x,x)= E[x^2] - E[x]^2$$\n",
    "\n",
    "Con nuestros datos...\n",
    "\n",
    "$$Var[Vpn] = Cov(Vpn,Vpn)= E[Vpn^2] - E[Vpn]^2$$\n",
    "\n",
    "\n"
   ]
  },
  {
   "cell_type": "code",
   "execution_count": 83,
   "metadata": {},
   "outputs": [
    {
     "data": {
      "text/plain": [
       "(3079782365726.823, 3839594086710.42, 759811720983.5967)"
      ]
     },
     "execution_count": 83,
     "metadata": {},
     "output_type": "execute_result"
    }
   ],
   "source": [
    "esp_vpn=(util.iloc[:,7].mean())**2 #esperanza de vpn al cuadrado e(x)^2\n",
    "esp_vpn2=((util.iloc[:,7])**2).mean()# esperanza  de vpn al cuadrado e(x^2)\n",
    "\n",
    "var_vpn=esp_vpn2-esp_vpn\n",
    "esp_vpn,esp_vpn2,var_vpn\n",
    "var"
   ]
  },
  {
   "cell_type": "markdown",
   "metadata": {},
   "source": [
    "$$Var[Vpn] = Cov(Vpn,Vpn)= 3839594086710.42 - 3079782365726.823$$\n",
    "\n",
    "$$Var[Vpn] = 759,811,720,983.5967$$\n",
    "\n",
    "$$Cov(x,y)=[\\sqrt{VAR(x)*VAR(y)}][Corr(x,y)]$$\n"
   ]
  },
  {
   "cell_type": "markdown",
   "metadata": {},
   "source": [
    "**d) Estime analíticamente la PDF del VPN y la TIR:**\n",
    "\n",
    "1. ¿Cuál es la probabilidad de que la TIR sea superior a la tasa libre de riesgo?"
   ]
  },
  {
   "cell_type": "code",
   "execution_count": 84,
   "metadata": {},
   "outputs": [],
   "source": [
    "def tabla_z(x,mu,sigma):\n",
    "    res = 1-norm.cdf(x,mu,sigma)\n",
    "    return res"
   ]
  },
  {
   "cell_type": "code",
   "execution_count": 85,
   "metadata": {},
   "outputs": [
    {
     "data": {
      "text/plain": [
       "0.9833007976177081"
      ]
     },
     "execution_count": 85,
     "metadata": {},
     "output_type": "execute_result"
    }
   ],
   "source": [
    "tabla_z(0.03,0.3593,0.1548)"
   ]
  },
  {
   "cell_type": "markdown",
   "metadata": {},
   "source": [
    "La probabilidad de que la TIR sea superior a la tasa libre de riesgo es del **98.33%**"
   ]
  },
  {
   "cell_type": "markdown",
   "metadata": {},
   "source": [
    "2. ¿Cuál es la probabilidad de que la TIR sea superior al 35%?\n"
   ]
  },
  {
   "cell_type": "code",
   "execution_count": 86,
   "metadata": {},
   "outputs": [
    {
     "data": {
      "text/plain": [
       "0.5239530527241607"
      ]
     },
     "execution_count": 86,
     "metadata": {},
     "output_type": "execute_result"
    }
   ],
   "source": [
    "tabla_z(0.35,0.3593,0.1548)"
   ]
  },
  {
   "cell_type": "markdown",
   "metadata": {},
   "source": [
    "La probabilidad de que la TIR sea superior al 35% es del **52.3953%**"
   ]
  },
  {
   "cell_type": "markdown",
   "metadata": {},
   "source": [
    "3. ¿Cuál es la probabilidad de que el valor del proyecto sea superior a 2 millones de dólares?"
   ]
  },
  {
   "cell_type": "code",
   "execution_count": 87,
   "metadata": {},
   "outputs": [
    {
     "data": {
      "text/plain": [
       "0.3911456744688774"
      ]
     },
     "execution_count": 87,
     "metadata": {},
     "output_type": "execute_result"
    }
   ],
   "source": [
    "tabla_z(2000000, 1757025.24, 879278.47)"
   ]
  },
  {
   "cell_type": "markdown",
   "metadata": {},
   "source": [
    "La probabilidad de que el valor del proyecto sea superior a 2 millones de dólares es del **39.1145%**"
   ]
  },
  {
   "cell_type": "markdown",
   "metadata": {},
   "source": [
    "4. ¿Cuál es la probabilidad de que la TIR esté entre el 10% y el 20%? "
   ]
  },
  {
   "cell_type": "code",
   "execution_count": 88,
   "metadata": {},
   "outputs": [
    {
     "name": "stdout",
     "output_type": "stream",
     "text": [
      "10.47626669172571 %\n"
     ]
    }
   ],
   "source": [
    "a = tabla_z(0.10,0.3593,0.1548)\n",
    "b = tabla_z(0.20,0.3593,0.1548)\n",
    "print((a-b)*100,'%')"
   ]
  },
  {
   "cell_type": "markdown",
   "metadata": {},
   "source": [
    "La probabilidad de que la TIR sea superior al 35% es del **10.4762%**"
   ]
  },
  {
   "cell_type": "markdown",
   "metadata": {},
   "source": [
    "5. ¿Obtienes las mismas respuestas que en Tarea 1.1?"
   ]
  },
  {
   "cell_type": "markdown",
   "metadata": {},
   "source": [
    "*Comparando las respuestas de la tarea 1.1 con las actuales se puede notar que los resultados no son exactamente los mismos, sin embargo, la diferencia es mínima ya que prácticamente varian los porcentajes en cuestión de decimales. En donde si se pudo observar una diferencia considerablemente mayor fue en el último inciso en donde la respuesta actual fue de 10.4662% y en la tarea 1.1 se ubtuvo una probabilidad del 12%.*"
   ]
  }
 ],
 "metadata": {
  "kernelspec": {
   "display_name": "Python 3",
   "language": "python",
   "name": "python3"
  },
  "language_info": {
   "codemirror_mode": {
    "name": "ipython",
    "version": 3
   },
   "file_extension": ".py",
   "mimetype": "text/x-python",
   "name": "python",
   "nbconvert_exporter": "python",
   "pygments_lexer": "ipython3",
   "version": "3.8.3"
  }
 },
 "nbformat": 4,
 "nbformat_minor": 2
}
