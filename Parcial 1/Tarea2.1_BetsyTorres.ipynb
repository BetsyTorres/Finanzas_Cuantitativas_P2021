{
 "cells": [
  {
   "cell_type": "markdown",
   "metadata": {},
   "source": [
    "# Esta tarea fue realizada en equipo por:\n",
    "# Mariana Briones Martínez\n",
    "\n",
    "# Betsy Leticia Torres López  "
   ]
  },
  {
   "cell_type": "markdown",
   "metadata": {},
   "source": [
    "# TAREA 2.1\n",
    "\n",
    "Find the best parameters for a ML for PDF of\n",
    "\n",
    "> a) Bernoulli  or Poisson Distribution \n",
    "\n",
    "> Deliverable in LaTex(code in txt &  pdf)\n",
    "\n",
    "**We selected the Poisson Distribution**"
   ]
  },
  {
   "cell_type": "markdown",
   "metadata": {},
   "source": [
    "La solucion al metodo establecido del maximo de la funcion de verosimilitud. \n",
    "\n",
    "Dejando $X_1, ..., X_n$ como independientes y distribuidos identicamente como variables random siguiendo una distribucion de Poisson con un parametro $\\lambda$, y $f(x_i|\\lambda)$ que deota la probabilidad de la funcion de densidad de $x_i|\\lambda$.\n",
    "\n",
    "Entonces...\n",
    "$$f(x_i|\\lambda)=\\frac {e^{-\\lambda}\\lambda^{x_i}}{x_i!},   x_i=0,1,2,...$$\n",
    "\n",
    "por lo tanto la funcion de verosimilitud es \n",
    "\n",
    "$$ L(\\lambda)= \\prod_{i=1}^n f(x_i|\\lambda)$$\n",
    "\n",
    "En la maxima verosimilitud el paranetro estimado $\\lambda$ es resuelto de la siguiente manera:\n",
    "\n",
    "$$L(\\lambda)=\\frac {e^{-n\\lambda}\\lambda^{\\sum_{i=1}^n x_i}}{\\prod_{i=1}^n x_i!},$$\n",
    "\n",
    "$$\\ln L(\\lambda)= -n\\lambda+\\sum_{i=1}^n x_i\\ln \\lambda - \\ln(\\prod_{i=1}^n x_i!),$$\n",
    "\n",
    "$$\\frac{\\partial\\ln L(\\lambda)}{\\partial\\lambda} = -n+\\frac {\\sum_{i=1}^n x_i}{\\hat\\lambda} = 0 ,$$\n",
    "\n",
    "$$\\hat\\lambda = \\frac {\\sum_{i=1}^n x_i}{n}$$ , y \n",
    "\n",
    "$$\\hat\\lambda = \\bar x .$$\n",
    "\n",
    "la segunda derivada de $\\ln L(\\lambda)$ es...\n",
    "\n",
    "$$\\frac{\\partial^2\\ln L(\\lambda)}{\\partial^2\\lambda}= -\\frac {\\sum_{i=1}^n x_i}{\\lambda^2} < 0$$\n",
    "\n",
    "Por lo tanto, el estimado de la maxima verosimilitud es $\\lambda_MLE = \\bar x$"
   ]
  },
  {
   "cell_type": "code",
   "execution_count": null,
   "metadata": {},
   "outputs": [],
   "source": []
  }
 ],
 "metadata": {
  "kernelspec": {
   "display_name": "Python 3",
   "language": "python",
   "name": "python3"
  },
  "language_info": {
   "codemirror_mode": {
    "name": "ipython",
    "version": 3
   },
   "file_extension": ".py",
   "mimetype": "text/x-python",
   "name": "python",
   "nbconvert_exporter": "python",
   "pygments_lexer": "ipython3",
   "version": "3.8.3"
  }
 },
 "nbformat": 4,
 "nbformat_minor": 4
}
