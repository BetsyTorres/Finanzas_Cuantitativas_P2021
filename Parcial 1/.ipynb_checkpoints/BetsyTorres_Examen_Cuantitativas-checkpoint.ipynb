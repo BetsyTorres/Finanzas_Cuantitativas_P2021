{
 "cells": [
  {
   "cell_type": "markdown",
   "metadata": {},
   "source": [
    "# Finanzas Cuantitativas\n",
    "### Examen Parcial 1\n",
    "### Alumna: Betsy Leticia Torres López \n",
    "### Fecha: 23 de marzo de 2021\n",
    "\n",
    "**Link de gitHub:**https://github.com/BetsyTorres/Finanzas_Cuantitativas_P2021/blob/main/Parcial%201/BetsyTorres_Examen_Cuantitativas.ipynb"
   ]
  },
  {
   "cell_type": "markdown",
   "metadata": {},
   "source": [
    "### Q1:Expected Value\n",
    "\n",
    "Use Excel file, using Maximum Likelihood estimate the distribution of units of each year. *Tip. Use only Normal and Uniform distribution.*\n",
    "\n",
    "Example: \n",
    "$$Year 1  \\sim \\mathcal {N}((200k,10k)$$\n",
    "\n",
    "Consider a company with the forecast for units over a project for the next 5 years.(in excel)\n",
    "\n",
    "The project has an initial investment of **1.8M**, a fixed cost of **40k**. Price per unit **10** and cost per unit **8**\n",
    "The risk free of **3\\%**\n",
    "\n",
    "    1) What is the Expected value of the NPV?  \n",
    "    2) What is the VAR of NPV?\n",
    "\n",
    "Answer analytically (Expand your steps of expected value and variance)\n",
    "\n",
    "    3) What is the Expected value of the NPV?  \n",
    "    4) What is the VAR of NPV?\n",
    "    5) What distribution does the NPV have? (use Maximum Likehood,Use only Normal and Uniform distribution)\n",
    "    6) What probability of having NPV over a 1 M? Explain your answer"
   ]
  },
  {
   "cell_type": "code",
   "execution_count": 80,
   "metadata": {},
   "outputs": [],
   "source": [
    "# Importamos librerias\n",
    "import pandas as pd\n",
    "import numpy as np\n",
    "import scipy.stats as st\n",
    "import warnings\n",
    "import matplotlib.pyplot as plt"
   ]
  },
  {
   "cell_type": "code",
   "execution_count": 81,
   "metadata": {},
   "outputs": [
    {
     "data": {
      "text/html": [
       "<div>\n",
       "<style scoped>\n",
       "    .dataframe tbody tr th:only-of-type {\n",
       "        vertical-align: middle;\n",
       "    }\n",
       "\n",
       "    .dataframe tbody tr th {\n",
       "        vertical-align: top;\n",
       "    }\n",
       "\n",
       "    .dataframe thead th {\n",
       "        text-align: right;\n",
       "    }\n",
       "</style>\n",
       "<table border=\"1\" class=\"dataframe\">\n",
       "  <thead>\n",
       "    <tr style=\"text-align: right;\">\n",
       "      <th></th>\n",
       "      <th>Year 1</th>\n",
       "      <th>Year 2</th>\n",
       "      <th>Year 3</th>\n",
       "      <th>Year 4</th>\n",
       "      <th>Year 5</th>\n",
       "    </tr>\n",
       "  </thead>\n",
       "  <tbody>\n",
       "    <tr>\n",
       "      <th>0</th>\n",
       "      <td>342299</td>\n",
       "      <td>210646</td>\n",
       "      <td>267698</td>\n",
       "      <td>304886</td>\n",
       "      <td>50162</td>\n",
       "    </tr>\n",
       "    <tr>\n",
       "      <th>1</th>\n",
       "      <td>224626</td>\n",
       "      <td>244301</td>\n",
       "      <td>398344</td>\n",
       "      <td>230886</td>\n",
       "      <td>49800</td>\n",
       "    </tr>\n",
       "    <tr>\n",
       "      <th>2</th>\n",
       "      <td>64300</td>\n",
       "      <td>202526</td>\n",
       "      <td>146428</td>\n",
       "      <td>290904</td>\n",
       "      <td>50120</td>\n",
       "    </tr>\n",
       "    <tr>\n",
       "      <th>3</th>\n",
       "      <td>127986</td>\n",
       "      <td>326343</td>\n",
       "      <td>286020</td>\n",
       "      <td>273425</td>\n",
       "      <td>49907</td>\n",
       "    </tr>\n",
       "    <tr>\n",
       "      <th>4</th>\n",
       "      <td>402335</td>\n",
       "      <td>367261</td>\n",
       "      <td>398079</td>\n",
       "      <td>226830</td>\n",
       "      <td>50080</td>\n",
       "    </tr>\n",
       "    <tr>\n",
       "      <th>5</th>\n",
       "      <td>267268</td>\n",
       "      <td>457021</td>\n",
       "      <td>298338</td>\n",
       "      <td>249051</td>\n",
       "      <td>50069</td>\n",
       "    </tr>\n",
       "    <tr>\n",
       "      <th>6</th>\n",
       "      <td>92096</td>\n",
       "      <td>419615</td>\n",
       "      <td>390045</td>\n",
       "      <td>197294</td>\n",
       "      <td>49847</td>\n",
       "    </tr>\n",
       "    <tr>\n",
       "      <th>7</th>\n",
       "      <td>348944</td>\n",
       "      <td>225079</td>\n",
       "      <td>2414</td>\n",
       "      <td>250010</td>\n",
       "      <td>49828</td>\n",
       "    </tr>\n",
       "    <tr>\n",
       "      <th>8</th>\n",
       "      <td>46757</td>\n",
       "      <td>319192</td>\n",
       "      <td>33928</td>\n",
       "      <td>293288</td>\n",
       "      <td>49941</td>\n",
       "    </tr>\n",
       "    <tr>\n",
       "      <th>9</th>\n",
       "      <td>350434</td>\n",
       "      <td>388240</td>\n",
       "      <td>339788</td>\n",
       "      <td>225370</td>\n",
       "      <td>50118</td>\n",
       "    </tr>\n",
       "  </tbody>\n",
       "</table>\n",
       "</div>"
      ],
      "text/plain": [
       "   Year 1  Year 2  Year 3  Year 4  Year 5\n",
       "0  342299  210646  267698  304886   50162\n",
       "1  224626  244301  398344  230886   49800\n",
       "2   64300  202526  146428  290904   50120\n",
       "3  127986  326343  286020  273425   49907\n",
       "4  402335  367261  398079  226830   50080\n",
       "5  267268  457021  298338  249051   50069\n",
       "6   92096  419615  390045  197294   49847\n",
       "7  348944  225079    2414  250010   49828\n",
       "8   46757  319192   33928  293288   49941\n",
       "9  350434  388240  339788  225370   50118"
      ]
     },
     "execution_count": 81,
     "metadata": {},
     "output_type": "execute_result"
    }
   ],
   "source": [
    "# Importamos datos\n",
    "data = pd.read_excel('EXAMEN_P1.xlsx')\n",
    "data.head(10)"
   ]
  },
  {
   "cell_type": "markdown",
   "metadata": {},
   "source": [
    "Tenemos las funciones necesarias:"
   ]
  },
  {
   "cell_type": "code",
   "execution_count": 82,
   "metadata": {},
   "outputs": [],
   "source": [
    "def best_fit_distribution(data, bins=200, ax=None):\n",
    "    \"\"\"Model data by finding best fit distribution to data\"\"\"\n",
    "    # Get histogram of original data\n",
    "    y, x = np.histogram(data, bins=bins, density=True)\n",
    "    x = (x + np.roll(x, -1))[:-1] / 2.0\n",
    "\n",
    "  # Distributions to check\n",
    "    DISTRIBUTIONS = [        \n",
    "      st.norm,st.uniform # Distribuciones usadas por el Tip dado\n",
    "    ]\n",
    "\n",
    "    # Best holders\n",
    "    best_distribution = st.norm\n",
    "    best_params = (0.0, 1.0)\n",
    "    best_sse = np.inf\n",
    "\n",
    "    # Estimate distribution parameters from data\n",
    "    for distribution in DISTRIBUTIONS:\n",
    "\n",
    "        # Try to fit the distribution\n",
    "        try:\n",
    "            # Ignore warnings from data that can't be fit\n",
    "            with warnings.catch_warnings():\n",
    "                warnings.filterwarnings('ignore')\n",
    "\n",
    "                # fit dist to data\n",
    "                params = distribution.fit(data)\n",
    "\n",
    "                # Separate parts of parameters\n",
    "                arg = params[:-2]\n",
    "                loc = params[-2]\n",
    "                scale = params[-1]\n",
    "\n",
    "                # Calculate fitted PDF and error with fit in distribution\n",
    "                pdf = distribution.pdf(x, loc=loc, scale=scale, *arg)\n",
    "                sse = np.sum(np.power(y - pdf, 2.0))\n",
    "\n",
    "                # if axis pass in add to plot\n",
    "                try:\n",
    "                    if ax:\n",
    "                        pd.Series(pdf, x).plot(ax=ax)\n",
    "                \n",
    "                except Exception:\n",
    "                    pass\n",
    "\n",
    "                # identify if this distribution is better\n",
    "                if best_sse > sse > 0:\n",
    "                    best_distribution = distribution\n",
    "                    best_params = params\n",
    "                    best_sse = sse\n",
    "\n",
    "        except Exception:\n",
    "            pass\n",
    "\n",
    "    return (best_distribution.name, best_params)\n",
    "\n",
    "def make_pdf(dist, params, size=10000):\n",
    "    \"\"\"Generate distributions's Probability Distribution Function \"\"\"\n",
    "\n",
    "    # Separate parts of parameters\n",
    "    arg = params[:-2]\n",
    "    loc = params[-2]\n",
    "    scale = params[-1]\n",
    "\n",
    "    # Get sane start and end points of distribution\n",
    "    start = dist.ppf(0.01, *arg, loc=loc, scale=scale) if arg else dist.ppf(0.01, loc=loc, scale=scale)\n",
    "    end = dist.ppf(0.99, *arg, loc=loc, scale=scale) if arg else dist.ppf(0.99, loc=loc, scale=scale)\n",
    "\n",
    "    # Build PDF and turn into pandas Series\n",
    "    x = np.linspace(start, end, size)\n",
    "    y = dist.pdf(x, loc=loc, scale=scale, *arg)\n",
    "    pdf = pd.Series(y, x)\n",
    "\n",
    "    return pdf"
   ]
  },
  {
   "cell_type": "code",
   "execution_count": 83,
   "metadata": {},
   "outputs": [
    {
     "data": {
      "text/plain": [
       "[['norm', (202192.366, 99037.34944922569)],\n",
       " ['uniform', (200099.0, 299876.0)],\n",
       " ['uniform', (0.0, 400000.0)],\n",
       " ['uniform', (175114.0, 149883.0)],\n",
       " ['norm', (49998.439333333336, 99.3904236813364)]]"
      ]
     },
     "execution_count": 83,
     "metadata": {},
     "output_type": "execute_result"
    }
   ],
   "source": [
    "#Obtenemos las ditribuciones y parametros de cada año \n",
    "years = list(data.columns)\n",
    "\n",
    "best_fits = [list(best_fit_distribution(data[year])) for year in years]\n",
    "\n",
    "best_fits"
   ]
  },
  {
   "cell_type": "code",
   "execution_count": 84,
   "metadata": {
    "scrolled": true
   },
   "outputs": [
    {
     "data": {
      "text/plain": [
       "(-27823.85909718645, 372841.42601437017)"
      ]
     },
     "execution_count": 84,
     "metadata": {},
     "output_type": "execute_result"
    }
   ],
   "source": [
    "#Se obtiene la media y varianza del valor presente neto\n",
    "npv_vec.mean(), npv_vec.std()"
   ]
  },
  {
   "cell_type": "code",
   "execution_count": 85,
   "metadata": {},
   "outputs": [
    {
     "data": {
      "text/plain": [
       "('norm', (-27823.85909718645, 372841.42601437017))"
      ]
     },
     "execution_count": 85,
     "metadata": {},
     "output_type": "execute_result"
    }
   ],
   "source": [
    "#obtenemos la mejor distrubución para los datos del valor presente neto\n",
    "best_fit_distribution(npv_vec)"
   ]
  },
  {
   "cell_type": "code",
   "execution_count": 86,
   "metadata": {},
   "outputs": [
    {
     "name": "stdout",
     "output_type": "stream",
     "text": [
      "0.0 %\n"
     ]
    }
   ],
   "source": [
    "# Obtenemos el porcentaje de los datos del NPV que son mayores a 1 M\n",
    "mill = [n for n in npv_vec if n>1000000]\n",
    "ans1=len(mill)/len(data)\n",
    "print(ans1*100,'%')"
   ]
  },
  {
   "cell_type": "code",
   "execution_count": 87,
   "metadata": {},
   "outputs": [
    {
     "data": {
      "text/plain": [
       "array([ 196856.15240743,  138809.60351959, -605132.05765737,\n",
       "        -23985.41891094,  708469.43781834,  472331.11150768,\n",
       "        137169.76625872, -346666.29452866, -621237.72771208,\n",
       "        538022.36735407,   58619.43747214, -485792.68245604,\n",
       "        434319.34881182, -100224.50661654,  960109.85194063,\n",
       "       -498288.8785509 , -435209.44562217,  234188.58332167,\n",
       "        527717.94748941,  492181.69010313,  137389.57487211,\n",
       "        225254.41829615,  142252.45644912, -652718.50860141,\n",
       "         62580.72630038,  233818.07571885, -712714.88148659,\n",
       "        178264.64059532, -110158.10396397,  191414.09037975,\n",
       "        508675.98025024,  -88879.63192027,  720122.27920657,\n",
       "       -534324.46851543, -462986.34275305,  312180.59969053,\n",
       "        135326.05758089,  -91228.70097639,  -20536.76007279,\n",
       "       -228906.98806835,  288680.35285459,  138709.97632619,\n",
       "        148449.28945283, -670810.43688019, -297648.80987719,\n",
       "       -418494.86180678, -196635.18469215,  -50403.43910829,\n",
       "       -604976.22004962, -264542.0113509 , -607448.64862632,\n",
       "         56109.49105085,  177280.10601736,  404062.60754407,\n",
       "       -117631.81761293, -553467.0905771 , -657221.79413721,\n",
       "        446519.92012912,  -53128.7296155 ,  176709.63984031,\n",
       "       -588571.55657159,  -17002.0259587 , -421681.51934747,\n",
       "       -380502.03707991,  229813.11815904, -146083.74059905,\n",
       "        307252.53409315, -508908.64542416,  537310.10419162,\n",
       "       -565245.99062476, -313538.81506005, -211663.26704122,\n",
       "       -586693.71846286, -534885.67342676, -340596.84571021,\n",
       "        255079.80823358, -164758.43955311, -110100.60317528,\n",
       "        114102.3478064 ,  -80951.13087559, -173120.79563924,\n",
       "        726479.56640395, -185833.54205919,  153363.13755235,\n",
       "        219575.66758451,   43797.15611554,   20335.71024601,\n",
       "        476313.51454973,  716145.59947673,  142136.67884425,\n",
       "        451638.88146103, -318376.76407595,   10841.0180368 ,\n",
       "        -36495.12912181, -318555.00414335,  287346.49520739,\n",
       "       -660303.57634132, -917537.48833769, -715113.09870363,\n",
       "        179754.64956134])"
      ]
     },
     "execution_count": 87,
     "metadata": {},
     "output_type": "execute_result"
    }
   ],
   "source": [
    "npv_vec[0:100]"
   ]
  },
  {
   "cell_type": "code",
   "execution_count": 78,
   "metadata": {},
   "outputs": [
    {
     "name": "stdout",
     "output_type": "stream",
     "text": [
      "0.13333333333333333 %\n"
     ]
    }
   ],
   "source": [
    "# Como se puede observar no hay nungun dato que arroje mas de 1M en el vector del NPV \n",
    "# por lo tanto probe con la cifra de 900 mil por curiosidad personal y me arrojo el siguiente porcentaje\n",
    "print(((len([n for n in npv_vec if n>900000])/len(data))*100),'%')"
   ]
  },
  {
   "cell_type": "markdown",
   "metadata": {},
   "source": [
    "### <span style=\"background:#FFFF00\">Answer 1 </span>\n",
    "    1)What is the Expected value of the NPV?\n",
    "> -27823.85909718645\n",
    "\n",
    "    2)What is the VAR of NPV? \n",
    "> 372841.42601437017"
   ]
  },
  {
   "cell_type": "markdown",
   "metadata": {},
   "source": [
    "**Answer analytically**\n",
    " \n",
    "     3) What is the Expected value of the NPV?\n",
    "\n",
    "$ E[x] = - I + \\frac{P_{n}-F_{c}}{(1 - r)^{n}} $\n",
    "\n",
    "$ E[x] = - 1.8M + \\frac{P_{1}-F_{c}}{(1 - r)^{1}} + \\frac{P_{2}-F_{c}}{(1 - r)^{2}} + \\frac{P_{3}-F_{c}}{(1 - r)^{3}} + \\frac{P_{4}-F_{c}}{(1 - r)^{4}} + \\frac{P_{5}-F_{c}}{(1 - r)^{5}}$\n",
    "\n",
    "$ E[x] = - 1.8M + \\frac{202192.366(10-8)- 40,000}{(1 - 0.03)^{1}} + \\frac{200099.0(10-8)- 40,000}{(1 - 0.03)^{2}} + \\frac{0.0(10-8)- 40,000}{(1 - 0.03)^{3}} + \\frac{175114.0(10-8)- 40,000}{(1 - 0.03)^{4}} + \\frac{49998.4393(10-8)- 40,000}{(1 - 0.03)^{5}} $\n",
    "\n",
    "$ E[x] = -27,823.85909718645$\n",
    "\n",
    "Al limitar las distribuciones se observa que la media de la distribución del año 3 es cero, por lo que el método analitico muestra un valor negativo. \n",
    "\n",
    "Utilizando la media real de los valores del año tres se observa una esperanza de más cercana al arrojado usando código.\n",
    "\n",
    "    4) What is the VAR of NPV?\n",
    "$$ Var[x] = Var[- I] + Var[\\frac{Var_{n}-F_{c}}{(1 - r)^{n}}] $$\n",
    "$$ Var[x] = Var[- 1.8M] + Var[\\frac{Var_{1}-F_{c}}{(1 - r)^{1}}] + Var[\\frac{Var_{2}-F_{c}}{(1 - r)^{2}}] + Var[\\frac{Var_{3}-F_{c}}{(1 - r)^{3}}] + Var[\\frac{Var_{4}-F_{c}}{(1 - r)^{4}}] + Var[\\frac{Var_{5}-F_{c}}{(1 - r)^{5}}]$$\n",
    "$$ Var[x] = Var[\\frac{99037.349(10-8)- 40,000}{(1 - 0.03)^{1}}] + Var[\\frac{299876.0(10-8)- 40,000}{(1 - 0.03)^{2}}] + Var[\\frac{400000.0(10-8)- 40,000}{(1 - 0.03)^{3}}] + Var[\\frac{149883.0(10-8)- 40,000}{(1 - 0.03)^{4}}] + Var[\\frac{99.39(10-8)- 40,000}{(1 - 0.03)^{5}}]$$\n",
    "\n",
    "$$ Var[x] = 372,841.42601437017 $$\n",
    "\n",
    "    5) What distribution does the NPV have?\n",
    "> $\\mathcal{N} \\sim (-27823.85909718645, 372841.42601437017)$  \n",
    "\n",
    "    6) What probability of having NPV over a 1 M? \n",
    "> 0.0%\n"
   ]
  },
  {
   "cell_type": "markdown",
   "metadata": {},
   "source": [
    "### Q2: Maximum Likelihood\n",
    "\n",
    "Using Maximum Likelihood parameter estimation Derive the process to get the optimal parameter(s): \n",
    "\n",
    "Exponential Distribution (get $\\hat{\\lambda}$):\n",
    "\n",
    "$$y_{i} \\sim \\ f(\\lambda, y_{i})= \\lambda e^{-\\lambda y_i}$$\n"
   ]
  },
  {
   "cell_type": "markdown",
   "metadata": {},
   "source": [
    "### <span style=\"background:#FFFF00\">Answer 2</span>\n",
    "La distribución exponencial tiene la siguiente funcion de densidad: \n",
    "$$ y_{i} \\sim \\ f(\\lambda, y_{i})= \\lambda e^{-\\lambda y_i}$$\n",
    "en donde $\\lambda > 0$ es la PDF de $ y{1}, y{2}, ..., y{n}$\n",
    "\n",
    "Entonces\n",
    "\n",
    "$$f( y{1}, y{2}, ..., y{n}, \\lambda)= f(y_{1},\\lambda)*f(y_{2},\\lambda)*...*f(y_{n},\\lambda)$$\n",
    "\n",
    "$$ = \\lambda*e^{-\\lambda y_{1}}*\\lambda*e^{-\\lambda y_{2}}*...*\\lambda*e^{-\\lambda y_{n}}$$\n",
    "\n",
    "$$=\\lambda^{n}*e^{-\\lambda \\sum_{i=1}^{n}}y_{i}$$\n",
    "\n",
    "Tomando $L(\\lambda)=f(y_{1}, y_{2},...,y_{n}, \\lambda)$\n",
    "\n",
    "$$lnL(\\lambda)=ln\\lambda^{n}*e^{-\\lambda \\sum_{i=1}^{n}}y_{i}$$\n",
    "\n",
    "$$\\frac{\\partial lnL(\\lambda)}{\\partial\\lambda}=\\frac{n}{\\lambda}-\\sum_{i=1}^{n}y_{i}$$\n",
    "\n",
    "Igualando $\\frac{\\partial lnL(\\lambda)}{\\partial\\lambda}=0$\n",
    "\n",
    "$$\\frac{n}{\\lambda}-\\sum_{i=1}{n}y_{i}$$\n",
    "\n",
    "Obtenemos el estimador de lambda el cual es denotado por $\\hat\\lambda$\n",
    "\n",
    "$$\\hat\\lambda=\\frac{n}{\\sum_{i=1}{n}}y_{i} $$\n",
    "\n",
    "Por lo tanto, el estimado de la maxima verosimilitud es $\\lambda_MLE = \\bar Y$ que es igual a la media de $y_{1}, y_{2},...,y_{n}$"
   ]
  },
  {
   "cell_type": "markdown",
   "metadata": {},
   "source": [
    "### Q3: Modeling Derivatives\n",
    "\n",
    "Find the differential form of a derivative, $df(X_{t}, t):= df_{t}$, where: (tip: Use Taylor series and Itô Lemma)\n",
    "\n",
    "$$dX_{t}=\\mu X_{t}^3(d_{t}) +X_{t}\\sigma(dW_{t}) + \\sigma X_{t} \\ $$\n",
    "\n",
    "Is the equation risk fee under neutral valuation? Why?\n",
    "\n",
    "\n"
   ]
  },
  {
   "cell_type": "markdown",
   "metadata": {},
   "source": [
    "### <span style=\"background:orange\">Answer 3</span>\n",
    "\n",
    "$$ f (X_{t}, t) = f_t + \\frac{\\partial f_t}{\\partial X_t} \\vartriangle X_t + \\frac{1}{2} [\\frac{\\partial^2 f_t}{\\partial t^2}\\vartriangle t^2 + \\frac{\\partial^2 f_t}{\\partial X^2_t}\\vartriangle X^2_t + \\frac{\\partial^2 f_t}{\\partial t \\partial X_t}\\vartriangle t\\vartriangle X_t + \\frac{\\partial^2 f_t}{\\partial X_t \\partial t}\\vartriangle X_t\\vartriangle t]$$\n",
    "\n",
    "La forma diferencial es:\n",
    "\n",
    "$$\\frac{\\partial f_t}{\\partial t}\\vartriangle t + \\frac{\\partial f_t}{\\partial X_t} \\vartriangle X_t + \\frac{1}{2} [\\frac{\\partial^2 f_t}{\\partial t^2}\\vartriangle t^2 + \\frac{\\partial^2 f_t}{\\partial X^2_t}\\vartriangle X^2_t + \\frac{\\partial^2 X_t}{\\partial t \\partial X_t}\\vartriangle t\\vartriangle X_t + \\frac{\\partial^2 f_t}{\\partial X_t \\partial t}\\vartriangle X_t\\vartriangle t]$$\n",
    "\n",
    "...\n",
    "\n",
    "Formula a utilizar:\n",
    "$$df_t = \\frac{\\partial f_t}{\\partial t}dt + \\frac{\\partial f_t}{\\partial X_t} dX_t + \\frac{1}{2} [\\frac{\\partial^2 f_t}{\\partial X^2_t}dX^2_t]$$\n",
    "\n",
    "Para $dX_{t}=\\mu X_{t}^3(d_{t}) +X_{t}\\sigma(dW_{t}) + \\sigma X_{t}  $\n",
    "\n",
    "Tenemos que:\n",
    "$a=\\mu X_{T}^3(d_{t})$\n",
    "$b=X_{t}\\sigma(dW_{t})$\n",
    "$c=\\sigma X_{t} $\n",
    "\n",
    "\n",
    "Considerando: $(a+b+c)^2=a^2+2ab+2ac+b^2+2bc+c^2$\n",
    "\n",
    "Sustituimos: \n",
    "$dX_{t}^2= [\\mu X_{t}^3(d_{t})]^2 +2[\\mu X_{t}^3(d_{t})*X_{t}\\sigma(dW_{t})] + 2[\\mu X_{t}^3(d_{t})*\\sigma X_{t}]+[X_{t}\\sigma(dW_{t})]^2+2[X_{t}\\sigma(dW_{t})*\\sigma X_{t}]+[\\sigma X_{t}]^2$\n",
    "\n",
    "Utilizamos Ito para eliminar los terminos:\n",
    "$dX_{t}^2=(\n",
    "\n",
    "\n",
    "\n",
    "--------------\n",
    "\n",
    "como $dX_{t}=X_{t}\\sigma dW_{t}$\n"
   ]
  },
  {
   "cell_type": "markdown",
   "metadata": {},
   "source": [
    "### Q4.1: Black and Scholes solution\n",
    "\n",
    "Explain in detail how to use Feunmann-Kaz theorem to solve Black & Schole equation. Clearly state the equivalences an values from your equation and the theorem.  \n",
    "\n",
    "Definition: Feunmann-Kaz theorem:\n",
    "\n",
    "Problem statement:\n",
    " $$\\frac{\\partial U}{\\partial t}+ \\mu (x,t)\\frac{\\partial U}{\\partial x}+ \\frac{1}{2}\\sigma^2(x,t)\\frac{\\partial^2 u}{\\partial x^2}-V(x,t)U(x,t)+f(x,t)=0 $$\n",
    "\n",
    "where:  $ U(x,T)=\\psi (x) $\n",
    "\n",
    "Is the equation risk fee under neutral valuation? Why?\n",
    "\n"
   ]
  },
  {
   "cell_type": "markdown",
   "metadata": {},
   "source": [
    "### <span style=\"background:#FFFF00\">Answer 4.1</span>\n",
    "$$ r f_{t} = \\frac{\\partial f_{t}}{\\partial t}+ \\frac{\\partial f_{t}}{\\partial S_{t}}S_{t}r + \\frac{1}{2} \\sigma^{2} S_{t}^{2} \\frac{\\partial^{2} f_{t}}{\\partial S_{t}^{2}} $$\n",
    "\n",
    "$$ \\frac{\\partial f_{t}}{\\partial t}+ \\frac{\\partial f_{t}}{\\partial S_{t}}S_{t}r + \\frac{1}{2} \\sigma^{2} S_{t}^{2} \\frac{\\partial^{2} f_{t}}{\\partial S_{t}^{2}} - r f_{t} = 0$$\n",
    "\n",
    "Solución de Feumann-Kaz:\n",
    "$$ U(x,t) = E^{Q}[\\int_{t}^{T} [e^{-\\int_{t}^{r} V(x, \\tau)d_{\\tau}}f(x_{r}, r)]d_{r} + e^{-\\int_{t}^{T} V(x, \\tau)d_{\\tau}} \\psi (X_{T}) | X_{t} : x] $$\n",
    "\n",
    "Se supone lo siguiente:\n",
    "$$ U = U(x,t) = f_{t} $$\n",
    "$$ \\sigma^{2}(x,t) = \\sigma^2 S_{t}^{2} $$\n",
    "$$ V (x, t ) = r $$\n",
    "$$ f(x ,t) = 0 $$\n",
    "$$ \\psi (X_{T} ) = f_{T} $$\n",
    "$$ \\mu(x,t) = S_{t}r $$\n",
    "\n",
    "Por lo tanto:\n",
    "$$ f_{t} = E^{Q}[\\int_{t}^{T} [e^{-\\int_{t}^{r} r d_{\\tau}} 0 ]d_{r} + e^{-\\int_{t}^{T} r d_{\\tau}} f_{T}) | S_{t} : s] $$\n",
    "$$ f_{t} = E^{Q}[ e^{-\\int_{t}^{T} r d_{\\tau}} f_{T}) | S_{t} : s] $$\n",
    "$$ f_{t} = E^{Q}[ e^{- r \\tau} f_{T}) | S_{t} : s] $$\n",
    "$$ f_{t} = E^{Q}[ e^{- r (T - t)} f_{T}) | S_{t} : s] $$\n",
    "$$ f_{t} = e^{- r (T - t)} \\hat E_{t}[f_{T}]) $$\n",
    "\n",
    "El valor esperado $\\hat E_{t}[f_{T} ]$ es neutral al riesgo en $f_{t}(S_{T}, T)$ al tiempo de madurez T."
   ]
  },
  {
   "cell_type": "markdown",
   "metadata": {},
   "source": [
    "### Q4.2: Black and Scholes solution\n",
    "\n",
    "Using the differential equation of derivative from Q3. Solve it using Feunmann-Kaz theorem. Clearly state the equivalences an values from your equation and the theorem.  \n",
    "\n",
    "Definition: Feunmann-Kaz theorem:\n",
    " \n",
    "Problem statement:\n",
    "$$\\frac{\\partial U}{\\partial t}+ \\mu (x,t)\\frac{\\partial U}{\\partial x}+ \\frac{1}{2}\\sigma^2(x,t)\\frac{\\partial^2 u}{\\partial x^2}-V(x,t)U(x,t)+f(x,t)=0 $$\n",
    "\n",
    "where:  $ U(x,T)=\\psi (x) $\n",
    "\n",
    "Can you solve it?\n",
    "\n",
    "Is the equation risk fee under neutral valuation? Why?"
   ]
  },
  {
   "cell_type": "markdown",
   "metadata": {},
   "source": [
    "### <span style=\"background:red\">Answer 4.2</span>\n"
   ]
  },
  {
   "cell_type": "markdown",
   "metadata": {},
   "source": [
    "### Q5: Modeling Derivatives\n",
    "For the following portfolio:\n",
    "$$V_{t} = Q_{1}S_{t} + Q_{2}f_{t} $$\n",
    "\n",
    "where: $$dS_{t}=\\mu_{}S_{t}(d_{t}) +S_{t}\\sigma(dW_{t}) $$\n",
    "\n",
    "$$df_{t}=( \\frac{\\partial f_{t}}{\\partial t} + \\frac{1}{2}\\sigma^2S_{t}^2\\frac{\\partial^2f_{t}}{\\partial S_{t}^2} ) d_{t} + \\frac{\\partial f_{t}}{\\partial S_{t}}dS_{t}$$\n",
    "    \n",
    "Find the value of $Q_{1}$ and $Q{2}$ that makes the portfolio risk free under neutral valuation. (show in details all the steps of the proof) \n"
   ]
  },
  {
   "cell_type": "markdown",
   "metadata": {},
   "source": [
    "### <span style=\"background:#FFFF00\">Answer 5</span>\n",
    "\n",
    "$$ V_{t} = Q_{1}S_{t}+Q_{2}f_{t} $$\n",
    "$$ dV_{t} = d[Q_{1}S_{t}+Q_{2}f_{t}] $$\n",
    "$$ dV_{t} = Q_{1}dS_{t}+Q_{2}df_{t} $$\n",
    "$$ dV_{t} = Q_{1} dS_{t} +Q_{2} ((\\frac{\\partial f_{t}}{\\partial t} + \\frac{1}{2} \\sigma^{2} S_{t}^{2} \\frac{\\partial^2 f_{t}}{\\partial S_{t}^2}) d_{t} + \\frac{\\partial f_{t}}{\\partial S_{t}} dS_{t}) $$\n",
    "\n",
    "$$ dV_{t} = Q_{1} dS_{t} + Q_{2} \\frac{\\partial f_{t}}{\\partial t}d_t + \\frac{1}{2} Q_{2} \\sigma^{2} S_{t}^{2} \\frac{\\partial^2 f_{t}}{\\partial S_{t}^2} d_{t} + Q_{2} \\frac{\\partial f_{t}}{\\partial S_{t}} dS_{t}) $$\n",
    "\n",
    "$$ dV_{t} = Q_{2}( \\frac{\\partial f_{t}}{\\partial t} + \\frac{1}{2} Q_{2} \\sigma^{2} S_{t}^{2} \\frac{\\partial^2 f_{t}}{\\partial S_{t}^2})d_t + (Q_{1} + Q_{2} \\frac{\\partial f_{t}}{\\partial S_{t}})dS_t$$\n",
    "\n",
    "Para evitar ese riesgo, hacemos que el argumento de $S_t = 0$. Por lo tanto:\n",
    "$$ (Q_{1} + Q_{2} \\frac{\\partial f_{t}}{\\partial S_{t}})dS_t = 0 dS_t = 0 $$\n",
    "La condición se cumpliria con $ Q_{1} = \\frac{\\partial f_{t}}{\\partial S_{t}} $ y $ Q_{2} = 1$\n",
    "\n",
    "Y el portafolio queda:\n",
    "$$ dV_{t} = (Q_{2} \\frac{\\partial f_{t}}{\\partial t} + \\frac{1}{2} Q_{2} \\sigma^{2} S_{t}^{2} \\frac{\\partial^2 f_{t}}{\\partial S_{t}^2})d_t $$\n",
    "\n",
    "\n",
    "\n"
   ]
  },
  {
   "cell_type": "markdown",
   "metadata": {},
   "source": [
    "### Q6: Fair Value\n",
    "Consider the payoff function of the following derivative. \n",
    "\n",
    "    1) Explain a possible use of this instrument.\n",
    "    2) Get the fair value under risk neutral valuation. \n",
    "\n",
    "$$\n",
    "M_{T}^{CP}= \\left\\{ \\begin{array}{lcc}\n",
    "             S_{T_1}   &   S_{T_1} \\geq S_{T_2} \\\\\n",
    "             \\\\ S_{T_2}   &   S_{T_1} < S_{T_2} \n",
    "             \\end{array}\n",
    "   \\right.\n",
    "$$   \n",
    "Describe in full details all the steps.\n"
   ]
  },
  {
   "cell_type": "markdown",
   "metadata": {},
   "source": [
    "### <span style=\"background: orange\">Answer 6</span>\n",
    "\n",
    "$$\n",
    "M_{T}^{CP}= \\left\\{ \\begin{array}{lcc}\n",
    "             S_{T_1}   &   S_{T_1} \\geq S_{T_2} \\\\\n",
    "             \\\\ S_{T_2}   &   S_{T_1} < S_{T_2} \n",
    "             \\end{array}\n",
    "   \\right.\n",
    "$$   \n",
    "\n",
    "$$ f_{t} = e^{r(T−t)} \\hat E_{t}[M_{T}^{CP}(t,X)] $$\n",
    "\n",
    "$$ f_{t} = e^{r(T−t)} \\int_{-\\infty}^{+\\infty}M_{T}^{CP}(t,X) p(x)dx $$\n",
    "\n",
    "$$ E_{t}[M_{T}^{CP}(t,X)] = \\int_{-\\infty}^{+\\infty}M_{T}^{CP}(t,X) p(x)dx $$\n",
    "\n",
    "$$ \\int_{-\\infty}^{+\\infty}M_{T}^{CP}(t,X) p(x)dx = \\int_{-\\infty}^{S_{T_1}}M_{T}^{CP}(t,X) p(x)dx + \\int_{s_{T_1}}^{\\infty}M_{T}^{CP}(t,X) p(x)dx $$"
   ]
  },
  {
   "cell_type": "markdown",
   "metadata": {},
   "source": [
    "### Q7: Greeks\n",
    "\n",
    "For the derivative in Q6, calculate: \n",
    "\n",
    "Delta $\\Delta$ for $S_{t_1}$ and for $S_{t_2}$\n",
    "$\\frac{\\partial V_{t}}{\\partial S_{t}} = \\Delta$ \n"
   ]
  },
  {
   "cell_type": "markdown",
   "metadata": {},
   "source": [
    "### <span style=\"background:red\">Answer 7</span>\n"
   ]
  },
  {
   "cell_type": "markdown",
   "metadata": {},
   "source": [
    "\n",
    "### Q8: Greeks\n",
    "Prove in full detail the Greeks parity that comes from Black-Scholes-Merton model.  Lets start consider a portfolio with a single call option, $V_{t}=e^{-r(T-t)}\\mathbb{Ê}_{t}[C_{T}^{LC}(t,S_{t})]$ :\n",
    "\n",
    "$$r V_{t}  = [-\\frac{\\partial V_{t}}{\\partial \\tau}+rS_{t}\\frac{\\partial V_{t}}{\\partial S_{t}} +\\frac{1}{2}\\sigma^2 S_{t}^2 \\frac{\\partial^2 V_{t}}{\\partial S_{t}^2}]$$\n"
   ]
  },
  {
   "cell_type": "markdown",
   "metadata": {},
   "source": [
    "### <span style=\"background:#FFFF00\">Answer 8</span>\n",
    "\n",
    "  \n",
    "> **Delta**\n",
    "\n",
    "$$\\frac{\\partial V_t }{\\partial S_t} = \\Delta $$\n",
    "$$ V_t = S_t N(d_1) - K e^{-r(T-t)} N(d_2) $$\n",
    "$$\\frac{\\partial V_t }{\\partial S_t} = \\frac{\\partial S_t }{\\partial S_t} N(d_1) + S_t \\frac{\\partial N(d_1) }{\\partial d_1} \\frac{\\partial d_1 }{\\partial S_t} - K e^{-r(T-t)} \\frac{\\partial N(d_2) }{\\partial d_2} \\frac{\\partial d_2 }{\\partial S_t}$$\n",
    "\n",
    "$$\\frac{\\partial V_t }{\\partial S_t} = 1 N(d_1) + S_t N'(d_1) \\frac{\\partial d_1 }{\\partial S_t} - K e^{-r(T-t)} N'(d_2) \\frac{\\partial d_2 }{\\partial S_t}$$\n",
    "*Aplicamos propiedad 1:*\n",
    "$$  S_t N'(d_1) \\frac{\\partial d_1 }{\\partial S_t} - K e^{-r(T-t)} N'(d_2) \\frac{\\partial d_2 }{\\partial S_t} = 0$$\n",
    "\n",
    "$$\\frac{\\partial V_t }{\\partial S_t} = N(d_1) = \\Delta$$\n",
    "\n",
    "   \n",
    ">**Gamma**\n",
    "\n",
    "$$ \\frac{\\partial^2 V_t}{\\partial S_t^{2}} = \\Gamma $$\n",
    "$$ \\frac{\\partial \\Delta}{\\partial S_t} = \\frac{\\partial N(d_1) }{\\partial d_1} \\frac{\\partial d_1 }{\\partial S_t}$$\n",
    "$$ * d_1 = \\frac{S_t +( r - q + 0.5*\\sigma^2 )(T-t)}{\\sigma \\sqrt{T-t}} $$\n",
    "$$ \\frac{\\partial \\Delta}{\\partial S_t} = N'(d_1) \\frac{1}{S_t \\sigma \\sqrt{T-t}}$$\n",
    "$$ \\frac{\\partial^2 V_t}{\\partial S_t^{2}} = \\frac{N'(d_1)}{S_t \\sigma \\sqrt{T-t}} $$\n",
    "\n",
    ">**Theta**\n",
    "\n",
    "$$ -\\frac{\\partial V_t }{\\partial \\tau}  = \\Theta $$\n",
    "\n",
    "$$ \\frac{\\partial V_t }{\\partial \\tau}  = S_t \\frac{\\partial N(d_1) }{\\partial d_1} \\frac{\\partial d_1 }{\\partial \\tau} - [\\frac{\\partial Ke^{-r\\tau} }{\\partial \\tau} N(d_2) + K e^{-r(\\tau)} \\frac{\\partial N(d_2) }{\\partial d_2} \\frac{\\partial d_2 }{\\partial \\tau}]$$\n",
    "\n",
    "$$ \\frac{\\partial V_t }{\\partial \\tau}  = S_t N'(d_1) \\frac{\\partial d_1 }{\\partial \\tau} + r Ke^{-r\\tau} N(d_2) - K e^{-r(\\tau)} N'(d_2) \\frac{\\partial d_2 }{\\partial \\tau}$$\n",
    "\n",
    "*Aplicamos propiedad 5:*\n",
    "$$ \\frac{\\partial d_1 }{\\partial \\tau} = \\frac{\\partial d_2 }{\\partial \\tau} + \\frac{\\sigma}{2\\sqrt{\\tau}}$$\n",
    "$$ \\frac{\\partial V_t }{\\partial \\tau}  = S_t N'(d_1) (\\frac{\\partial d_2 }{\\partial \\tau} + \\frac{\\sigma}{2\\sqrt{\\tau}}) + r Ke^{-r\\tau} N(d_2) - K e^{-r(\\tau)} N'(d_2) \\frac{\\partial d_2 }{\\partial \\tau}$$\n",
    "$$ \\frac{\\partial V_t }{\\partial \\tau}  = S_t N'(d_1) \\frac{\\partial d_2 }{\\partial \\tau} +S_t N'(d_1) \\frac{\\sigma}{2\\sqrt{\\tau}} + r Ke^{-r\\tau} N(d_2) - K e^{-r(\\tau)} N'(d_2) \\frac{\\partial d_2 }{\\partial \\tau}$$\n",
    "$$ \\frac{\\partial V_t }{\\partial \\tau}  = S_t N'(d_1) \\frac{\\sigma}{2\\sqrt{\\tau}} + r Ke^{-r\\tau} N(d_2) +\\frac{\\partial d_2 }{\\partial \\tau} [S_t N'(d_1) - K e^{-r(\\tau)} N'(d_2)] $$\n",
    "*Aplicamos la propiedad 1 de nuevo*\n",
    "$$ S_t N'(d_1)- K e^{-r(\\tau)} N'(d_2) = 0  $$\n",
    "$$ \\frac{\\partial V_t }{\\partial \\tau}  = S_t N'(d_1) \\frac{\\sigma}{2\\sqrt{\\tau}} + r Ke^{-r\\tau} N(d_2) + \\frac{\\partial d_{2}}{\\partial\\tau}[0]$$\n",
    "\n",
    "$$ \\frac{\\partial V_t }{\\partial \\tau}  =  S_t N'(d_1) \\frac{\\sigma}{2\\sqrt{\\tau}} + r Ke^{-r\\tau} N(d_2)=\\theta $$\n",
    "\n",
    "   \n",
    "- **Ahora probamos...**\n",
    "\n",
    "$$ r V_t = −\\frac{\\partial V_t }{\\partial \\tau} +r S_t \\frac{\\partial V_t }{\\partial S_t} +\\frac{1}{2} \\sigma^2 S_t^2 \\frac{\\partial^2 V_t }{\\partial S_t^2} $$\n",
    "$$ r V_t = - S_t N'(d_1) \\frac{\\sigma}{2\\sqrt{\\tau}} - r Ke^{-r\\tau} N(d_2) + r S_t N(d_1) +\\frac{1}{2} \\sigma^2 S_t^2 \\frac{N'(d_1)}{S_t \\sigma \\sqrt{T-t}} $$\n",
    "$$ r V_t = - S_t N'(d_1) \\frac{\\sigma}{2\\sqrt{\\tau}} - r Ke^{-r\\tau} N(d_2) + r S_t N(d_1) +\\frac{1}{2} \\sigma S_t \\frac{N'(d_1)}{\\sqrt{T-t}} $$\n",
    "$$ r V_t = - S_t N'(d_1) \\frac{\\sigma}{2\\sqrt{\\tau}} - r Ke^{-r\\tau} N(d_2) + r S_t N(d_1) + \\sigma S_t \\frac{N'(d_1)}{2 \\sqrt{\\tau}} $$\n",
    "$$ r V_t = - S_t N'(d_1) \\frac{\\sigma}{2\\sqrt{\\tau}} - r Ke^{-r\\tau} N(d_2) + r S_t N(d_1) + S_t N'(d_1) \\frac{\\sigma}{2 \\sqrt{\\tau}} $$\n",
    "$$ r V_t =  - r Ke^{-r\\tau} N(d_2) + r S_t N(d_1) $$\n",
    "$$ r V_t =  r [S_t N(d_1) - Ke^{-r\\tau} N(d_2)]$$\n",
    "*Recordemos:*\n",
    "$$ V_t = S_t N(d_1) - Ke^{-r\\tau} N(d_2)$$\n",
    "\n",
    "*Sustituimos y tenemos como resultado que:*\n",
    "$$ r V_t =  r V_t$$\n",
    "\n",
    "*y con el resultado anterior probamos que el modelo se cumple*"
   ]
  },
  {
   "cell_type": "code",
   "execution_count": null,
   "metadata": {},
   "outputs": [],
   "source": []
  }
 ],
 "metadata": {
  "kernelspec": {
   "display_name": "Python 3",
   "language": "python",
   "name": "python3"
  },
  "language_info": {
   "codemirror_mode": {
    "name": "ipython",
    "version": 3
   },
   "file_extension": ".py",
   "mimetype": "text/x-python",
   "name": "python",
   "nbconvert_exporter": "python",
   "pygments_lexer": "ipython3",
   "version": "3.8.3"
  }
 },
 "nbformat": 4,
 "nbformat_minor": 4
}
