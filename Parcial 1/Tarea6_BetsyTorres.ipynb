{
 "cells": [
  {
   "cell_type": "markdown",
   "metadata": {},
   "source": [
    "# Esta tarea fue realizada en equipo por Betsy Torres, Mariana Briones y Erick Mendoza\n",
    "\n",
    "# <font color='navy'> Tarea 6\n"
   ]
  },
  {
   "cell_type": "markdown",
   "metadata": {},
   "source": [
    "   1. Usamos series de taylor resolver a detalle: (a = 0, b = 0 y k= 2)."
   ]
  },
  {
   "cell_type": "markdown",
   "metadata": {},
   "source": [
    "$$ f(x,y) = e^{xy}+x^{2}y^{2}+ 5 $$ "
   ]
  },
  {
   "cell_type": "markdown",
   "metadata": {},
   "source": [
    "- Realizamos las derivadas parciales correspondientes:\n",
    "$$ f(a,b) = 6 $$\n",
    "$$ \\frac{\\partial f}{\\partial x} = ye^{xy} + 2xy^{2} = 0$$\n",
    "$$ \\frac{\\partial f}{\\partial y} = xe^{xy} + 2x^{2}y = 0$$\n",
    "\n",
    "$$ \\frac{\\partial^{2} f}{\\partial x^{2}} = y^{2}e^{xy} + 2y^{2} = 0$$\n",
    "$$ \\frac{\\partial^{2} f}{\\partial y^{2}} = x^{2}e^{xy} + 2x^{2} = 0$$\n",
    "\n",
    "$$ \\frac{\\partial^{2} f}{\\partial x \\partial y} = e^{xy} + xye^{xy} + 4xy = 1$$\n",
    "$$ \\frac{\\partial^{2} f}{\\partial y \\partial x} = e^{xy} + xye^{xy} + 4xy = 1$$\n"
   ]
  },
  {
   "cell_type": "markdown",
   "metadata": {},
   "source": [
    "- Sustituimos en fórmula\n",
    "$$ f(x, y) = f(a,b) + \\frac{\\partial f}{\\partial x}(x-a) + \\frac{\\partial f}{\\partial y}(y-b) + \\frac{1}{2}[\\frac{\\partial^{2} f}{\\partial x^{2}}(x-a)^{2} + \\frac{\\partial^{2} f}{\\partial y^{2}}(y-b)^{2} + \\frac{\\partial^{2} f}{\\partial x \\partial y}(x-a)(y-b) + \\frac{\\partial^{2} f}{\\partial y \\partial x}(y-b)(x-a)] $$\n",
    "\n",
    "$$ f(x,y) = 6 + 0 (x-0) + 0 (y-0) + \\frac{1}{2} [0 (x-0)^{2} + 0 (y-0)^{2} + 1(x-0)(y-0) + 1(y-0)(x-0)] $$\n",
    "$$ f(x,y) = 6  + \\frac{1}{2} [ 1(x)(y) + 1(y)(x)] $$\n",
    "$$ f(x,y) = 6  + \\frac{1}{2} [ xy + yx ] $$\n",
    "$$ f(x,y) = 6  + \\frac{1}{2} [ 2xy ] $$\n",
    "$$ f(x,y) = 6  + xy $$"
   ]
  },
  {
   "cell_type": "markdown",
   "metadata": {},
   "source": [
    "2. Consideremos cierto proceso de difusión $dX_t = X_t \\sigma dW_t$ encontrar una forma diferencial de una función \n",
    "$f(X(t+\\vartriangle t),t + \\vartriangle t) =df(t+\\vartriangle t)=dft$\n",
    "\n",
    "$$f(X_t, t) = f(t)=$$\n",
    "\n",
    "$$f_t + \\frac{\\partial f_t}{\\partial X_t} \\vartriangle X_t + \\frac{1}{2} [\\frac{\\partial^2 f_t}{\\partial t^2}\\vartriangle t^2 + \\frac{\\partial^2 f_t}{\\partial X^2_t}\\vartriangle X^2_t + \\frac{\\partial^2 f_t}{\\partial t \\partial X_t}\\vartriangle t\\vartriangle X_t + \\frac{\\partial^2 f_t}{\\partial X_t \\partial t}\\vartriangle X_t\\vartriangle t]$$\n",
    "\n",
    "- La forma diferencial es:\n",
    "\n",
    "$$\\frac{\\partial f_t}{\\partial t}\\vartriangle t + \\frac{\\partial f_t}{\\partial X_t} \\vartriangle X_t + \\frac{1}{2} [\\frac{\\partial^2 f_t}{\\partial t^2}\\vartriangle t^2 + \\frac{\\partial^2 f_t}{\\partial X^2_t}\\vartriangle X^2_t + \\frac{\\partial^2 X_t}{\\partial t \\partial X_t}\\vartriangle t\\vartriangle X_t + \\frac{\\partial^2 f_t}{\\partial X_t \\partial t}\\vartriangle X_t\\vartriangle t]$$\n",
    "\n",
    "- Si hacemos que: $\\vartriangle X_t \\rightarrow 0, \\vartriangle t \\rightarrow 0$ tenemos:\n",
    "\n",
    "$$df_t = \\frac{\\partial f_t}{\\partial t}dt + \\frac{\\partial f_t}{\\partial X_t} dX_t + \\frac{1}{2} [\\frac{\\partial^2 f_t}{\\partial t^2}dt^2 + \\frac{\\partial^2 f_t}{\\partial X^2_t}dX^2_t + \\frac{\\partial^2 f_t}{\\partial t \\partial X_t}dtdX_t + \\frac{\\partial^2 f_t}{\\partial X_t \\partial t}dX_tdt]$$\n",
    "\n",
    "$$df_t = \\frac{\\partial f_t}{\\partial t}dt + \\frac{\\partial f_t}{\\partial X_t} dX_t + \\frac{1}{2} [\\frac{\\partial^2 f_t}{\\partial X^2_t}dX^2_t]$$\n",
    "\n",
    "- Como  $dX_t=X_t\\sigma dW_t$ , tenemos que :\n",
    "\n",
    "\n",
    "$$dX^2_t=(X_t\\sigma dW_t)^2$$\n",
    "\n",
    "\n",
    "$$dX^2_t=X^2_t\\sigma^2 dW^2_t$$\n",
    "\n",
    "$$dX^2_t=X^2_t\\sigma^2 d_t$$\n",
    "\n",
    "$$df_t = \\frac{\\partial f_t}{\\partial t}dt + \\frac{\\partial f_t}{\\partial X_t} dX_t + \\frac{1}{2} [\\frac{\\partial^2 f_t}{\\partial X^2_t}(X^2_t\\sigma^2 d_t)]$$\n",
    "\n",
    "\n",
    "$$df_t = [\\frac{\\partial f_t}{\\partial t}+ \\frac{1}{2} (\\frac{\\partial^2 f_t}{\\partial X^2_t}X^2_t\\sigma^2 )]dt + \\frac{\\partial f_t}{\\partial X_t} dX_t $$"
   ]
  },
  {
   "cell_type": "markdown",
   "metadata": {},
   "source": [
    "3. Consideremos cierto proceso de difusión $dX_t = \\mu S^3_t + \\sigma^2 dW_t + \\frac{1}{2}d_t $\n",
    "encontrar una forma diferencial de una función $f(X(t+\\vartriangle t),t+ \\vartriangle t) =df(t+\\vartriangle t):=dft=$\n",
    "    \n",
    "    \n",
    "    "
   ]
  },
  {
   "cell_type": "markdown",
   "metadata": {},
   "source": [
    "- Retomando la ecuación desarrollada anteriormente:\n",
    "\n",
    "$$df_t = \\frac{\\partial f_t}{\\partial t}dt + \\frac{\\partial f_t}{\\partial X_t} dX_t + \\frac{1}{2} [\\frac{\\partial^2 f_t}{\\partial X^2_t}dX^2_t]$$\n",
    "\n",
    "- Como  $dX_t = \\mu S^3_t + \\sigma^2 dW_t + \\frac{1}{2}d_t $ , tenemos que :\n",
    "\n",
    "\n",
    "$$dX^2_t=(\\mu S^3_t + \\sigma^2 dW_t + \\frac{1}{2}d_t )^2$$\n",
    "\n",
    "\n",
    "$$dX^2_t=\\mu^2 S^6_t + \\sigma^4 dW^2_t + \\frac{1}{2}d^2_t$$\n",
    "\n",
    "$$dX^2_t=\\mu^2 S^6_t + \\sigma^4 dt$$\n",
    "\n",
    "$$df_t = \\frac{\\partial f_t}{\\partial t}dt + \\frac{\\partial f_t}{\\partial X_t} dX_t + \\frac{1}{2} [\\frac{\\partial^2 f_t}{\\partial X^2_t}(\\mu^2 S^6_t + \\sigma^4 dt)]$$\n",
    "\n",
    "\n",
    "$$df_t = [\\frac{\\partial f_t}{\\partial t}+ \\frac{1}{2} (\\frac{\\partial^2 f_t}{\\partial X^2_t} \\sigma^4)]dt + \\frac{\\partial f_t}{\\partial X_t} dX_t + \\frac{1}{2} [\\frac{\\partial^2 f_t}{\\partial X^2_t}\\mu^2 S^6_t]$$"
   ]
  },
  {
   "cell_type": "code",
   "execution_count": null,
   "metadata": {},
   "outputs": [],
   "source": []
  }
 ],
 "metadata": {
  "kernelspec": {
   "display_name": "Python 3",
   "language": "python",
   "name": "python3"
  },
  "language_info": {
   "codemirror_mode": {
    "name": "ipython",
    "version": 3
   },
   "file_extension": ".py",
   "mimetype": "text/x-python",
   "name": "python",
   "nbconvert_exporter": "python",
   "pygments_lexer": "ipython3",
   "version": "3.8.3"
  }
 },
 "nbformat": 4,
 "nbformat_minor": 4
}
